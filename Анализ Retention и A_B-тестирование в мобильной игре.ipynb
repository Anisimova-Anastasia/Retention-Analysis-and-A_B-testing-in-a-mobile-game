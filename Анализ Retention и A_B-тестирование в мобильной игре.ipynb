{
 "cells": [
  {
   "cell_type": "markdown",
   "id": "884879a7-fdfd-4d5b-9ece-cad5029a5835",
   "metadata": {},
   "source": [
    "## Решение задач по аналитике мобильной игры (Retention, A/B-тесты, метрики событий)"
   ]
  },
  {
   "cell_type": "markdown",
   "id": "03900145-a9ab-4f5b-a604-0808ba5ccffb",
   "metadata": {},
   "source": [
    "Цель проекта:\n",
    "\n",
    "Провести анализ ключевых метрик мобильной игры, включая расчет Retention Rate, оценку результатов A/B-теста акционных предложений и предложение метрик для оценки тематического события.\n",
    "\n",
    "Задачи:\n",
    "\n",
    "1. Разработать функцию на Python для расчета Retention Rate по дням от даты регистрации пользователей.\n",
    "\n",
    "2. A/B-тестирование акционных предложений\n",
    "- Определить, какой набор акционных предложений (группа A или B) показал лучшие результаты.\n",
    "- Предложить систему метрик, которые помогут измерить успешность эксперимента\n",
    "- Оценить статистическую значимость различий между группами."
   ]
  },
  {
   "cell_type": "markdown",
   "id": "8403bd12-2943-40ea-a25c-2e2ba2842a05",
   "metadata": {},
   "source": [
    "# Загрузка и предобработка данных"
   ]
  },
  {
   "cell_type": "code",
   "execution_count": 128,
   "id": "ebd1127c-1ca2-4705-9cdb-80663e382c96",
   "metadata": {},
   "outputs": [],
   "source": [
    "import pandas as pd\n",
    "import matplotlib.pyplot as plt\n",
    "%matplotlib inline\n",
    "import seaborn as sns\n",
    "import scipy.stats as ss\n",
    "from scipy.stats import norm\n",
    "from scipy.stats import ttest_ind\n",
    "import numpy as np\n",
    "import statsmodels.api as sm\n",
    "import requests\n",
    "from tqdm import tqdm\n",
    "from datetime import datetime, timedelta\n",
    "import pingouin as pg"
   ]
  },
  {
   "cell_type": "markdown",
   "id": "bfa90410-06da-4b01-b841-e96bf238bd3f",
   "metadata": {},
   "source": [
    "Таблица reg_data, которая содержит данные о времени регистрации"
   ]
  },
  {
   "cell_type": "code",
   "execution_count": 2,
   "id": "60403038-54b0-47be-aeb3-6a5bb5071436",
   "metadata": {},
   "outputs": [
    {
     "data": {
      "text/html": [
       "<div>\n",
       "<style scoped>\n",
       "    .dataframe tbody tr th:only-of-type {\n",
       "        vertical-align: middle;\n",
       "    }\n",
       "\n",
       "    .dataframe tbody tr th {\n",
       "        vertical-align: top;\n",
       "    }\n",
       "\n",
       "    .dataframe thead th {\n",
       "        text-align: right;\n",
       "    }\n",
       "</style>\n",
       "<table border=\"1\" class=\"dataframe\">\n",
       "  <thead>\n",
       "    <tr style=\"text-align: right;\">\n",
       "      <th></th>\n",
       "      <th>reg_ts</th>\n",
       "      <th>uid</th>\n",
       "    </tr>\n",
       "  </thead>\n",
       "  <tbody>\n",
       "    <tr>\n",
       "      <th>0</th>\n",
       "      <td>911382223</td>\n",
       "      <td>1</td>\n",
       "    </tr>\n",
       "    <tr>\n",
       "      <th>1</th>\n",
       "      <td>932683089</td>\n",
       "      <td>2</td>\n",
       "    </tr>\n",
       "    <tr>\n",
       "      <th>2</th>\n",
       "      <td>947802447</td>\n",
       "      <td>3</td>\n",
       "    </tr>\n",
       "    <tr>\n",
       "      <th>3</th>\n",
       "      <td>959523541</td>\n",
       "      <td>4</td>\n",
       "    </tr>\n",
       "    <tr>\n",
       "      <th>4</th>\n",
       "      <td>969103313</td>\n",
       "      <td>5</td>\n",
       "    </tr>\n",
       "    <tr>\n",
       "      <th>...</th>\n",
       "      <td>...</td>\n",
       "      <td>...</td>\n",
       "    </tr>\n",
       "    <tr>\n",
       "      <th>999995</th>\n",
       "      <td>1600874034</td>\n",
       "      <td>1110618</td>\n",
       "    </tr>\n",
       "    <tr>\n",
       "      <th>999996</th>\n",
       "      <td>1600874086</td>\n",
       "      <td>1110619</td>\n",
       "    </tr>\n",
       "    <tr>\n",
       "      <th>999997</th>\n",
       "      <td>1600874139</td>\n",
       "      <td>1110620</td>\n",
       "    </tr>\n",
       "    <tr>\n",
       "      <th>999998</th>\n",
       "      <td>1600874191</td>\n",
       "      <td>1110621</td>\n",
       "    </tr>\n",
       "    <tr>\n",
       "      <th>999999</th>\n",
       "      <td>1600874244</td>\n",
       "      <td>1110622</td>\n",
       "    </tr>\n",
       "  </tbody>\n",
       "</table>\n",
       "<p>1000000 rows × 2 columns</p>\n",
       "</div>"
      ],
      "text/plain": [
       "            reg_ts      uid\n",
       "0        911382223        1\n",
       "1        932683089        2\n",
       "2        947802447        3\n",
       "3        959523541        4\n",
       "4        969103313        5\n",
       "...            ...      ...\n",
       "999995  1600874034  1110618\n",
       "999996  1600874086  1110619\n",
       "999997  1600874139  1110620\n",
       "999998  1600874191  1110621\n",
       "999999  1600874244  1110622\n",
       "\n",
       "[1000000 rows x 2 columns]"
      ]
     },
     "execution_count": 2,
     "metadata": {},
     "output_type": "execute_result"
    }
   ],
   "source": [
    "reg_data=pd.read_csv('problem1-reg_data.csv', sep=';')\n",
    "reg_data"
   ]
  },
  {
   "cell_type": "markdown",
   "id": "dcfccf89-a6cd-4ae0-8065-1503ecd66306",
   "metadata": {},
   "source": [
    "Таблица auth_data, которая содержит данные о времени захода пользователей в игру"
   ]
  },
  {
   "cell_type": "code",
   "execution_count": 6,
   "id": "198eaf2c-b603-41fc-a06f-8e3693098bc2",
   "metadata": {},
   "outputs": [
    {
     "data": {
      "text/html": [
       "<div>\n",
       "<style scoped>\n",
       "    .dataframe tbody tr th:only-of-type {\n",
       "        vertical-align: middle;\n",
       "    }\n",
       "\n",
       "    .dataframe tbody tr th {\n",
       "        vertical-align: top;\n",
       "    }\n",
       "\n",
       "    .dataframe thead th {\n",
       "        text-align: right;\n",
       "    }\n",
       "</style>\n",
       "<table border=\"1\" class=\"dataframe\">\n",
       "  <thead>\n",
       "    <tr style=\"text-align: right;\">\n",
       "      <th></th>\n",
       "      <th>auth_ts</th>\n",
       "      <th>uid</th>\n",
       "    </tr>\n",
       "  </thead>\n",
       "  <tbody>\n",
       "    <tr>\n",
       "      <th>0</th>\n",
       "      <td>911382223</td>\n",
       "      <td>1</td>\n",
       "    </tr>\n",
       "    <tr>\n",
       "      <th>1</th>\n",
       "      <td>932683089</td>\n",
       "      <td>2</td>\n",
       "    </tr>\n",
       "    <tr>\n",
       "      <th>2</th>\n",
       "      <td>932921206</td>\n",
       "      <td>2</td>\n",
       "    </tr>\n",
       "    <tr>\n",
       "      <th>3</th>\n",
       "      <td>933393015</td>\n",
       "      <td>2</td>\n",
       "    </tr>\n",
       "    <tr>\n",
       "      <th>4</th>\n",
       "      <td>933875379</td>\n",
       "      <td>2</td>\n",
       "    </tr>\n",
       "    <tr>\n",
       "      <th>...</th>\n",
       "      <td>...</td>\n",
       "      <td>...</td>\n",
       "    </tr>\n",
       "    <tr>\n",
       "      <th>9601008</th>\n",
       "      <td>1600874034</td>\n",
       "      <td>1110618</td>\n",
       "    </tr>\n",
       "    <tr>\n",
       "      <th>9601009</th>\n",
       "      <td>1600874086</td>\n",
       "      <td>1110619</td>\n",
       "    </tr>\n",
       "    <tr>\n",
       "      <th>9601010</th>\n",
       "      <td>1600874139</td>\n",
       "      <td>1110620</td>\n",
       "    </tr>\n",
       "    <tr>\n",
       "      <th>9601011</th>\n",
       "      <td>1600874191</td>\n",
       "      <td>1110621</td>\n",
       "    </tr>\n",
       "    <tr>\n",
       "      <th>9601012</th>\n",
       "      <td>1600874244</td>\n",
       "      <td>1110622</td>\n",
       "    </tr>\n",
       "  </tbody>\n",
       "</table>\n",
       "<p>9601013 rows × 2 columns</p>\n",
       "</div>"
      ],
      "text/plain": [
       "            auth_ts      uid\n",
       "0         911382223        1\n",
       "1         932683089        2\n",
       "2         932921206        2\n",
       "3         933393015        2\n",
       "4         933875379        2\n",
       "...             ...      ...\n",
       "9601008  1600874034  1110618\n",
       "9601009  1600874086  1110619\n",
       "9601010  1600874139  1110620\n",
       "9601011  1600874191  1110621\n",
       "9601012  1600874244  1110622\n",
       "\n",
       "[9601013 rows x 2 columns]"
      ]
     },
     "execution_count": 6,
     "metadata": {},
     "output_type": "execute_result"
    }
   ],
   "source": [
    "auth_data=pd.read_csv('problem1-auth_data.csv', sep=';')\n",
    "auth_data"
   ]
  },
  {
   "cell_type": "markdown",
   "id": "9aa0a349-a355-4e3e-828e-f2cdbfd32c36",
   "metadata": {},
   "source": [
    "Проверим на наличие дубликатов"
   ]
  },
  {
   "cell_type": "code",
   "execution_count": 7,
   "id": "125cb5c7-210e-4169-a8da-330d1930bb82",
   "metadata": {},
   "outputs": [
    {
     "data": {
      "text/plain": [
       "0"
      ]
     },
     "execution_count": 7,
     "metadata": {},
     "output_type": "execute_result"
    }
   ],
   "source": [
    "int(reg_data.duplicated().sum())"
   ]
  },
  {
   "cell_type": "code",
   "execution_count": 8,
   "id": "dd8900f6-8be0-4abe-a75e-14892436b741",
   "metadata": {},
   "outputs": [
    {
     "data": {
      "text/plain": [
       "0"
      ]
     },
     "execution_count": 8,
     "metadata": {},
     "output_type": "execute_result"
    }
   ],
   "source": [
    "int(auth_data.duplicated().sum())"
   ]
  },
  {
   "cell_type": "code",
   "execution_count": 9,
   "id": "8fb6bf53-380c-446c-afd2-c9b043c84d40",
   "metadata": {},
   "outputs": [
    {
     "data": {
      "text/plain": [
       "reg_ts    1000000\n",
       "uid       1000000\n",
       "dtype: int64"
      ]
     },
     "execution_count": 9,
     "metadata": {},
     "output_type": "execute_result"
    }
   ],
   "source": [
    "reg_data.nunique()"
   ]
  },
  {
   "cell_type": "code",
   "execution_count": 10,
   "id": "0692f024-4d6b-40cd-a509-c692d9b9f5d2",
   "metadata": {},
   "outputs": [
    {
     "data": {
      "text/plain": [
       "auth_ts    9180915\n",
       "uid        1000000\n",
       "dtype: int64"
      ]
     },
     "execution_count": 10,
     "metadata": {},
     "output_type": "execute_result"
    }
   ],
   "source": [
    "auth_data.nunique()"
   ]
  },
  {
   "cell_type": "code",
   "execution_count": 11,
   "id": "2d54a0f5-0a2b-4436-bf52-0a23ff8f039e",
   "metadata": {},
   "outputs": [
    {
     "data": {
      "text/plain": [
       "True"
      ]
     },
     "execution_count": 11,
     "metadata": {},
     "output_type": "execute_result"
    }
   ],
   "source": [
    "reg_data.uid.nunique()==auth_data.uid.nunique()"
   ]
  },
  {
   "cell_type": "markdown",
   "id": "b6eea1ad-87fb-411f-882b-b5c0d964d55a",
   "metadata": {},
   "source": [
    "Дубликаты отсутствуют. Проверим наличие пропущенных значений"
   ]
  },
  {
   "cell_type": "code",
   "execution_count": 12,
   "id": "8617db6d-5f48-4cec-9e00-76a41ee3ba31",
   "metadata": {},
   "outputs": [
    {
     "data": {
      "text/plain": [
       "reg_ts    0\n",
       "uid       0\n",
       "dtype: int64"
      ]
     },
     "execution_count": 12,
     "metadata": {},
     "output_type": "execute_result"
    }
   ],
   "source": [
    "reg_data.isna().sum()"
   ]
  },
  {
   "cell_type": "code",
   "execution_count": 13,
   "id": "56a616ef-812a-4f0d-9475-9870be863a2c",
   "metadata": {},
   "outputs": [
    {
     "data": {
      "text/plain": [
       "auth_ts    0\n",
       "uid        0\n",
       "dtype: int64"
      ]
     },
     "execution_count": 13,
     "metadata": {},
     "output_type": "execute_result"
    }
   ],
   "source": [
    "auth_data.isna().sum()"
   ]
  },
  {
   "cell_type": "markdown",
   "id": "f928c372-b43b-4457-9950-33fad6eb91e9",
   "metadata": {},
   "source": [
    "Пропущенные значения также отсутствуют"
   ]
  },
  {
   "cell_type": "markdown",
   "id": "243f8b31-fccc-4e7c-83f8-97cb924c415d",
   "metadata": {},
   "source": [
    "Проверим типы данных"
   ]
  },
  {
   "cell_type": "code",
   "execution_count": 14,
   "id": "097c8e47-5163-4d7d-8b61-0d0bfee1b556",
   "metadata": {},
   "outputs": [
    {
     "data": {
      "text/plain": [
       "reg_ts    int64\n",
       "uid       int64\n",
       "dtype: object"
      ]
     },
     "execution_count": 14,
     "metadata": {},
     "output_type": "execute_result"
    }
   ],
   "source": [
    "reg_data.dtypes"
   ]
  },
  {
   "cell_type": "code",
   "execution_count": 15,
   "id": "0ce41013-5338-496b-8ebe-bd4a36a0215a",
   "metadata": {},
   "outputs": [
    {
     "data": {
      "text/plain": [
       "auth_ts    int64\n",
       "uid        int64\n",
       "dtype: object"
      ]
     },
     "execution_count": 15,
     "metadata": {},
     "output_type": "execute_result"
    }
   ],
   "source": [
    "auth_data.dtypes"
   ]
  },
  {
   "cell_type": "markdown",
   "id": "3776983b-d91f-4794-bfdc-f7d9e95c11f7",
   "metadata": {},
   "source": [
    "Обе таблицы содержат в себе данные о времени, но типы данных не соответвуют необходимым. Проведем преобразование типов данных"
   ]
  },
  {
   "cell_type": "code",
   "execution_count": 16,
   "id": "e876c2a9-024c-410d-8eec-05f462aa5b33",
   "metadata": {},
   "outputs": [],
   "source": [
    "reg_data['registration_time']= pd.to_datetime(reg_data['reg_ts'], unit='s')\n",
    "reg_data['registration_date']= pd.to_datetime(reg_data['reg_ts'], unit='s').dt.to_period('D')\n",
    "auth_data['time_to_game']= pd.to_datetime(auth_data['auth_ts'], unit='s')\n",
    "auth_data['auth_date']= pd.to_datetime(auth_data['auth_ts'], unit='s').dt.to_period('D')"
   ]
  },
  {
   "cell_type": "code",
   "execution_count": 17,
   "id": "8bb513ff-32d3-45d5-9a92-2f8b9fca3c9f",
   "metadata": {},
   "outputs": [
    {
     "data": {
      "text/html": [
       "<div>\n",
       "<style scoped>\n",
       "    .dataframe tbody tr th:only-of-type {\n",
       "        vertical-align: middle;\n",
       "    }\n",
       "\n",
       "    .dataframe tbody tr th {\n",
       "        vertical-align: top;\n",
       "    }\n",
       "\n",
       "    .dataframe thead th {\n",
       "        text-align: right;\n",
       "    }\n",
       "</style>\n",
       "<table border=\"1\" class=\"dataframe\">\n",
       "  <thead>\n",
       "    <tr style=\"text-align: right;\">\n",
       "      <th></th>\n",
       "      <th>reg_ts</th>\n",
       "      <th>uid</th>\n",
       "      <th>registration_time</th>\n",
       "      <th>registration_date</th>\n",
       "    </tr>\n",
       "  </thead>\n",
       "  <tbody>\n",
       "    <tr>\n",
       "      <th>0</th>\n",
       "      <td>911382223</td>\n",
       "      <td>1</td>\n",
       "      <td>1998-11-18 09:43:43</td>\n",
       "      <td>1998-11-18</td>\n",
       "    </tr>\n",
       "    <tr>\n",
       "      <th>1</th>\n",
       "      <td>932683089</td>\n",
       "      <td>2</td>\n",
       "      <td>1999-07-22 22:38:09</td>\n",
       "      <td>1999-07-22</td>\n",
       "    </tr>\n",
       "    <tr>\n",
       "      <th>2</th>\n",
       "      <td>947802447</td>\n",
       "      <td>3</td>\n",
       "      <td>2000-01-13 22:27:27</td>\n",
       "      <td>2000-01-13</td>\n",
       "    </tr>\n",
       "    <tr>\n",
       "      <th>3</th>\n",
       "      <td>959523541</td>\n",
       "      <td>4</td>\n",
       "      <td>2000-05-28 14:19:01</td>\n",
       "      <td>2000-05-28</td>\n",
       "    </tr>\n",
       "    <tr>\n",
       "      <th>4</th>\n",
       "      <td>969103313</td>\n",
       "      <td>5</td>\n",
       "      <td>2000-09-16 11:21:53</td>\n",
       "      <td>2000-09-16</td>\n",
       "    </tr>\n",
       "    <tr>\n",
       "      <th>...</th>\n",
       "      <td>...</td>\n",
       "      <td>...</td>\n",
       "      <td>...</td>\n",
       "      <td>...</td>\n",
       "    </tr>\n",
       "    <tr>\n",
       "      <th>999995</th>\n",
       "      <td>1600874034</td>\n",
       "      <td>1110618</td>\n",
       "      <td>2020-09-23 15:13:54</td>\n",
       "      <td>2020-09-23</td>\n",
       "    </tr>\n",
       "    <tr>\n",
       "      <th>999996</th>\n",
       "      <td>1600874086</td>\n",
       "      <td>1110619</td>\n",
       "      <td>2020-09-23 15:14:46</td>\n",
       "      <td>2020-09-23</td>\n",
       "    </tr>\n",
       "    <tr>\n",
       "      <th>999997</th>\n",
       "      <td>1600874139</td>\n",
       "      <td>1110620</td>\n",
       "      <td>2020-09-23 15:15:39</td>\n",
       "      <td>2020-09-23</td>\n",
       "    </tr>\n",
       "    <tr>\n",
       "      <th>999998</th>\n",
       "      <td>1600874191</td>\n",
       "      <td>1110621</td>\n",
       "      <td>2020-09-23 15:16:31</td>\n",
       "      <td>2020-09-23</td>\n",
       "    </tr>\n",
       "    <tr>\n",
       "      <th>999999</th>\n",
       "      <td>1600874244</td>\n",
       "      <td>1110622</td>\n",
       "      <td>2020-09-23 15:17:24</td>\n",
       "      <td>2020-09-23</td>\n",
       "    </tr>\n",
       "  </tbody>\n",
       "</table>\n",
       "<p>1000000 rows × 4 columns</p>\n",
       "</div>"
      ],
      "text/plain": [
       "            reg_ts      uid   registration_time registration_date\n",
       "0        911382223        1 1998-11-18 09:43:43        1998-11-18\n",
       "1        932683089        2 1999-07-22 22:38:09        1999-07-22\n",
       "2        947802447        3 2000-01-13 22:27:27        2000-01-13\n",
       "3        959523541        4 2000-05-28 14:19:01        2000-05-28\n",
       "4        969103313        5 2000-09-16 11:21:53        2000-09-16\n",
       "...            ...      ...                 ...               ...\n",
       "999995  1600874034  1110618 2020-09-23 15:13:54        2020-09-23\n",
       "999996  1600874086  1110619 2020-09-23 15:14:46        2020-09-23\n",
       "999997  1600874139  1110620 2020-09-23 15:15:39        2020-09-23\n",
       "999998  1600874191  1110621 2020-09-23 15:16:31        2020-09-23\n",
       "999999  1600874244  1110622 2020-09-23 15:17:24        2020-09-23\n",
       "\n",
       "[1000000 rows x 4 columns]"
      ]
     },
     "execution_count": 17,
     "metadata": {},
     "output_type": "execute_result"
    }
   ],
   "source": [
    "reg_data"
   ]
  },
  {
   "cell_type": "code",
   "execution_count": 18,
   "id": "dff3f4be-828c-4c87-a3e7-82be477527f8",
   "metadata": {},
   "outputs": [
    {
     "data": {
      "text/html": [
       "<div>\n",
       "<style scoped>\n",
       "    .dataframe tbody tr th:only-of-type {\n",
       "        vertical-align: middle;\n",
       "    }\n",
       "\n",
       "    .dataframe tbody tr th {\n",
       "        vertical-align: top;\n",
       "    }\n",
       "\n",
       "    .dataframe thead th {\n",
       "        text-align: right;\n",
       "    }\n",
       "</style>\n",
       "<table border=\"1\" class=\"dataframe\">\n",
       "  <thead>\n",
       "    <tr style=\"text-align: right;\">\n",
       "      <th></th>\n",
       "      <th>auth_ts</th>\n",
       "      <th>uid</th>\n",
       "      <th>time_to_game</th>\n",
       "      <th>auth_date</th>\n",
       "    </tr>\n",
       "  </thead>\n",
       "  <tbody>\n",
       "    <tr>\n",
       "      <th>0</th>\n",
       "      <td>911382223</td>\n",
       "      <td>1</td>\n",
       "      <td>1998-11-18 09:43:43</td>\n",
       "      <td>1998-11-18</td>\n",
       "    </tr>\n",
       "    <tr>\n",
       "      <th>1</th>\n",
       "      <td>932683089</td>\n",
       "      <td>2</td>\n",
       "      <td>1999-07-22 22:38:09</td>\n",
       "      <td>1999-07-22</td>\n",
       "    </tr>\n",
       "    <tr>\n",
       "      <th>2</th>\n",
       "      <td>932921206</td>\n",
       "      <td>2</td>\n",
       "      <td>1999-07-25 16:46:46</td>\n",
       "      <td>1999-07-25</td>\n",
       "    </tr>\n",
       "    <tr>\n",
       "      <th>3</th>\n",
       "      <td>933393015</td>\n",
       "      <td>2</td>\n",
       "      <td>1999-07-31 03:50:15</td>\n",
       "      <td>1999-07-31</td>\n",
       "    </tr>\n",
       "    <tr>\n",
       "      <th>4</th>\n",
       "      <td>933875379</td>\n",
       "      <td>2</td>\n",
       "      <td>1999-08-05 17:49:39</td>\n",
       "      <td>1999-08-05</td>\n",
       "    </tr>\n",
       "    <tr>\n",
       "      <th>...</th>\n",
       "      <td>...</td>\n",
       "      <td>...</td>\n",
       "      <td>...</td>\n",
       "      <td>...</td>\n",
       "    </tr>\n",
       "    <tr>\n",
       "      <th>9601008</th>\n",
       "      <td>1600874034</td>\n",
       "      <td>1110618</td>\n",
       "      <td>2020-09-23 15:13:54</td>\n",
       "      <td>2020-09-23</td>\n",
       "    </tr>\n",
       "    <tr>\n",
       "      <th>9601009</th>\n",
       "      <td>1600874086</td>\n",
       "      <td>1110619</td>\n",
       "      <td>2020-09-23 15:14:46</td>\n",
       "      <td>2020-09-23</td>\n",
       "    </tr>\n",
       "    <tr>\n",
       "      <th>9601010</th>\n",
       "      <td>1600874139</td>\n",
       "      <td>1110620</td>\n",
       "      <td>2020-09-23 15:15:39</td>\n",
       "      <td>2020-09-23</td>\n",
       "    </tr>\n",
       "    <tr>\n",
       "      <th>9601011</th>\n",
       "      <td>1600874191</td>\n",
       "      <td>1110621</td>\n",
       "      <td>2020-09-23 15:16:31</td>\n",
       "      <td>2020-09-23</td>\n",
       "    </tr>\n",
       "    <tr>\n",
       "      <th>9601012</th>\n",
       "      <td>1600874244</td>\n",
       "      <td>1110622</td>\n",
       "      <td>2020-09-23 15:17:24</td>\n",
       "      <td>2020-09-23</td>\n",
       "    </tr>\n",
       "  </tbody>\n",
       "</table>\n",
       "<p>9601013 rows × 4 columns</p>\n",
       "</div>"
      ],
      "text/plain": [
       "            auth_ts      uid        time_to_game   auth_date\n",
       "0         911382223        1 1998-11-18 09:43:43  1998-11-18\n",
       "1         932683089        2 1999-07-22 22:38:09  1999-07-22\n",
       "2         932921206        2 1999-07-25 16:46:46  1999-07-25\n",
       "3         933393015        2 1999-07-31 03:50:15  1999-07-31\n",
       "4         933875379        2 1999-08-05 17:49:39  1999-08-05\n",
       "...             ...      ...                 ...         ...\n",
       "9601008  1600874034  1110618 2020-09-23 15:13:54  2020-09-23\n",
       "9601009  1600874086  1110619 2020-09-23 15:14:46  2020-09-23\n",
       "9601010  1600874139  1110620 2020-09-23 15:15:39  2020-09-23\n",
       "9601011  1600874191  1110621 2020-09-23 15:16:31  2020-09-23\n",
       "9601012  1600874244  1110622 2020-09-23 15:17:24  2020-09-23\n",
       "\n",
       "[9601013 rows x 4 columns]"
      ]
     },
     "execution_count": 18,
     "metadata": {},
     "output_type": "execute_result"
    }
   ],
   "source": [
    "auth_data"
   ]
  },
  {
   "cell_type": "code",
   "execution_count": 19,
   "id": "075bbb52-3af2-40d8-af26-10d401efa0f1",
   "metadata": {},
   "outputs": [
    {
     "data": {
      "text/plain": [
       "reg_ts                        int64\n",
       "uid                           int64\n",
       "registration_time    datetime64[ns]\n",
       "registration_date         period[D]\n",
       "dtype: object"
      ]
     },
     "execution_count": 19,
     "metadata": {},
     "output_type": "execute_result"
    }
   ],
   "source": [
    "reg_data.dtypes"
   ]
  },
  {
   "cell_type": "code",
   "execution_count": 20,
   "id": "243780ed-32a7-445e-b534-54a949a6fe9e",
   "metadata": {},
   "outputs": [
    {
     "data": {
      "text/plain": [
       "auth_ts                  int64\n",
       "uid                      int64\n",
       "time_to_game    datetime64[ns]\n",
       "auth_date            period[D]\n",
       "dtype: object"
      ]
     },
     "execution_count": 20,
     "metadata": {},
     "output_type": "execute_result"
    }
   ],
   "source": [
    "auth_data.dtypes"
   ]
  },
  {
   "cell_type": "markdown",
   "id": "578809a9-5549-4eee-b67a-c3606f02f4cd",
   "metadata": {},
   "source": [
    "Преобразования в дату прошли успешно"
   ]
  },
  {
   "cell_type": "markdown",
   "id": "bb584e3a-b27c-46f8-8480-cb06372a123c",
   "metadata": {},
   "source": [
    "Теперь для дальнейшей работы необходимо соединить две таблицы по общему ключу - uid (айдишник пользователя в игре)"
   ]
  },
  {
   "cell_type": "code",
   "execution_count": 21,
   "id": "9ec7f0a3-e44d-4c25-a468-43949af6eba0",
   "metadata": {},
   "outputs": [
    {
     "data": {
      "text/html": [
       "<div>\n",
       "<style scoped>\n",
       "    .dataframe tbody tr th:only-of-type {\n",
       "        vertical-align: middle;\n",
       "    }\n",
       "\n",
       "    .dataframe tbody tr th {\n",
       "        vertical-align: top;\n",
       "    }\n",
       "\n",
       "    .dataframe thead th {\n",
       "        text-align: right;\n",
       "    }\n",
       "</style>\n",
       "<table border=\"1\" class=\"dataframe\">\n",
       "  <thead>\n",
       "    <tr style=\"text-align: right;\">\n",
       "      <th></th>\n",
       "      <th>auth_ts</th>\n",
       "      <th>uid</th>\n",
       "      <th>time_to_game</th>\n",
       "      <th>auth_date</th>\n",
       "      <th>reg_ts</th>\n",
       "      <th>registration_time</th>\n",
       "      <th>registration_date</th>\n",
       "    </tr>\n",
       "  </thead>\n",
       "  <tbody>\n",
       "    <tr>\n",
       "      <th>0</th>\n",
       "      <td>911382223</td>\n",
       "      <td>1</td>\n",
       "      <td>1998-11-18 09:43:43</td>\n",
       "      <td>1998-11-18</td>\n",
       "      <td>911382223</td>\n",
       "      <td>1998-11-18 09:43:43</td>\n",
       "      <td>1998-11-18</td>\n",
       "    </tr>\n",
       "    <tr>\n",
       "      <th>1</th>\n",
       "      <td>932683089</td>\n",
       "      <td>2</td>\n",
       "      <td>1999-07-22 22:38:09</td>\n",
       "      <td>1999-07-22</td>\n",
       "      <td>932683089</td>\n",
       "      <td>1999-07-22 22:38:09</td>\n",
       "      <td>1999-07-22</td>\n",
       "    </tr>\n",
       "    <tr>\n",
       "      <th>2</th>\n",
       "      <td>932921206</td>\n",
       "      <td>2</td>\n",
       "      <td>1999-07-25 16:46:46</td>\n",
       "      <td>1999-07-25</td>\n",
       "      <td>932683089</td>\n",
       "      <td>1999-07-22 22:38:09</td>\n",
       "      <td>1999-07-22</td>\n",
       "    </tr>\n",
       "    <tr>\n",
       "      <th>3</th>\n",
       "      <td>933393015</td>\n",
       "      <td>2</td>\n",
       "      <td>1999-07-31 03:50:15</td>\n",
       "      <td>1999-07-31</td>\n",
       "      <td>932683089</td>\n",
       "      <td>1999-07-22 22:38:09</td>\n",
       "      <td>1999-07-22</td>\n",
       "    </tr>\n",
       "    <tr>\n",
       "      <th>4</th>\n",
       "      <td>933875379</td>\n",
       "      <td>2</td>\n",
       "      <td>1999-08-05 17:49:39</td>\n",
       "      <td>1999-08-05</td>\n",
       "      <td>932683089</td>\n",
       "      <td>1999-07-22 22:38:09</td>\n",
       "      <td>1999-07-22</td>\n",
       "    </tr>\n",
       "    <tr>\n",
       "      <th>...</th>\n",
       "      <td>...</td>\n",
       "      <td>...</td>\n",
       "      <td>...</td>\n",
       "      <td>...</td>\n",
       "      <td>...</td>\n",
       "      <td>...</td>\n",
       "      <td>...</td>\n",
       "    </tr>\n",
       "    <tr>\n",
       "      <th>9601008</th>\n",
       "      <td>1600874034</td>\n",
       "      <td>1110618</td>\n",
       "      <td>2020-09-23 15:13:54</td>\n",
       "      <td>2020-09-23</td>\n",
       "      <td>1600874034</td>\n",
       "      <td>2020-09-23 15:13:54</td>\n",
       "      <td>2020-09-23</td>\n",
       "    </tr>\n",
       "    <tr>\n",
       "      <th>9601009</th>\n",
       "      <td>1600874086</td>\n",
       "      <td>1110619</td>\n",
       "      <td>2020-09-23 15:14:46</td>\n",
       "      <td>2020-09-23</td>\n",
       "      <td>1600874086</td>\n",
       "      <td>2020-09-23 15:14:46</td>\n",
       "      <td>2020-09-23</td>\n",
       "    </tr>\n",
       "    <tr>\n",
       "      <th>9601010</th>\n",
       "      <td>1600874139</td>\n",
       "      <td>1110620</td>\n",
       "      <td>2020-09-23 15:15:39</td>\n",
       "      <td>2020-09-23</td>\n",
       "      <td>1600874139</td>\n",
       "      <td>2020-09-23 15:15:39</td>\n",
       "      <td>2020-09-23</td>\n",
       "    </tr>\n",
       "    <tr>\n",
       "      <th>9601011</th>\n",
       "      <td>1600874191</td>\n",
       "      <td>1110621</td>\n",
       "      <td>2020-09-23 15:16:31</td>\n",
       "      <td>2020-09-23</td>\n",
       "      <td>1600874191</td>\n",
       "      <td>2020-09-23 15:16:31</td>\n",
       "      <td>2020-09-23</td>\n",
       "    </tr>\n",
       "    <tr>\n",
       "      <th>9601012</th>\n",
       "      <td>1600874244</td>\n",
       "      <td>1110622</td>\n",
       "      <td>2020-09-23 15:17:24</td>\n",
       "      <td>2020-09-23</td>\n",
       "      <td>1600874244</td>\n",
       "      <td>2020-09-23 15:17:24</td>\n",
       "      <td>2020-09-23</td>\n",
       "    </tr>\n",
       "  </tbody>\n",
       "</table>\n",
       "<p>9601013 rows × 7 columns</p>\n",
       "</div>"
      ],
      "text/plain": [
       "            auth_ts      uid        time_to_game   auth_date      reg_ts  \\\n",
       "0         911382223        1 1998-11-18 09:43:43  1998-11-18   911382223   \n",
       "1         932683089        2 1999-07-22 22:38:09  1999-07-22   932683089   \n",
       "2         932921206        2 1999-07-25 16:46:46  1999-07-25   932683089   \n",
       "3         933393015        2 1999-07-31 03:50:15  1999-07-31   932683089   \n",
       "4         933875379        2 1999-08-05 17:49:39  1999-08-05   932683089   \n",
       "...             ...      ...                 ...         ...         ...   \n",
       "9601008  1600874034  1110618 2020-09-23 15:13:54  2020-09-23  1600874034   \n",
       "9601009  1600874086  1110619 2020-09-23 15:14:46  2020-09-23  1600874086   \n",
       "9601010  1600874139  1110620 2020-09-23 15:15:39  2020-09-23  1600874139   \n",
       "9601011  1600874191  1110621 2020-09-23 15:16:31  2020-09-23  1600874191   \n",
       "9601012  1600874244  1110622 2020-09-23 15:17:24  2020-09-23  1600874244   \n",
       "\n",
       "          registration_time registration_date  \n",
       "0       1998-11-18 09:43:43        1998-11-18  \n",
       "1       1999-07-22 22:38:09        1999-07-22  \n",
       "2       1999-07-22 22:38:09        1999-07-22  \n",
       "3       1999-07-22 22:38:09        1999-07-22  \n",
       "4       1999-07-22 22:38:09        1999-07-22  \n",
       "...                     ...               ...  \n",
       "9601008 2020-09-23 15:13:54        2020-09-23  \n",
       "9601009 2020-09-23 15:14:46        2020-09-23  \n",
       "9601010 2020-09-23 15:15:39        2020-09-23  \n",
       "9601011 2020-09-23 15:16:31        2020-09-23  \n",
       "9601012 2020-09-23 15:17:24        2020-09-23  \n",
       "\n",
       "[9601013 rows x 7 columns]"
      ]
     },
     "execution_count": 21,
     "metadata": {},
     "output_type": "execute_result"
    }
   ],
   "source": [
    "user_activity = auth_data.merge(reg_data, on='uid', how='left')\n",
    "user_activity"
   ]
  },
  {
   "cell_type": "markdown",
   "id": "82b5c216-3a44-4583-a794-d0c8b1f75d24",
   "metadata": {},
   "source": [
    "Проверим наличие багов. Заходили ли пользователи в игру до регистрации ?"
   ]
  },
  {
   "cell_type": "code",
   "execution_count": 22,
   "id": "53ea1a78-b1f4-4e08-b4e8-c95695fc711e",
   "metadata": {},
   "outputs": [],
   "source": [
    "user_activity['is_time_to_game_earlier'] = user_activity['time_to_game'] < user_activity['registration_time']"
   ]
  },
  {
   "cell_type": "code",
   "execution_count": 23,
   "id": "eac7aa40-8770-44ee-b042-2dd0466ee240",
   "metadata": {},
   "outputs": [
    {
     "data": {
      "text/plain": [
       "is_time_to_game_earlier\n",
       "False    9601013\n",
       "Name: count, dtype: int64"
      ]
     },
     "execution_count": 23,
     "metadata": {},
     "output_type": "execute_result"
    }
   ],
   "source": [
    "user_activity.is_time_to_game_earlier.value_counts()"
   ]
  },
  {
   "cell_type": "markdown",
   "id": "549faa73-cd2e-45a0-919b-5bdef47b6ce3",
   "metadata": {},
   "source": [
    "Целостность данных проверена, случаев входа в игру до регистрации не обнаружено (все значения time_to_game >= registration_time)"
   ]
  },
  {
   "cell_type": "markdown",
   "id": "0a051efb-e153-4dae-9cea-d73e0b0c4f2f",
   "metadata": {},
   "source": [
    "Определим дипопзон дат регистраций и авторизаций игроков"
   ]
  },
  {
   "cell_type": "code",
   "execution_count": 24,
   "id": "866e5ef6-b3d6-44e4-9de0-fefd1c79ab7a",
   "metadata": {},
   "outputs": [
    {
     "name": "stdout",
     "output_type": "stream",
     "text": [
      "Период: 21.8 лет\n"
     ]
    }
   ],
   "source": [
    "total_days_reg=user_activity['registration_time'].max()-user_activity['registration_time'].min()\n",
    "years_reg = total_days_reg.days / 365.25  \n",
    "print(f\"Период: {years_reg:.1f} лет\")\n"
   ]
  },
  {
   "cell_type": "code",
   "execution_count": 25,
   "id": "81526fda-a228-422b-8971-dc57417a23fa",
   "metadata": {},
   "outputs": [
    {
     "name": "stdout",
     "output_type": "stream",
     "text": [
      "Период: 21.8 лет\n"
     ]
    }
   ],
   "source": [
    "total_days_aut=user_activity['time_to_game'].max()-user_activity['time_to_game'].min()\n",
    "years_aut = total_days_aut.days / 365.25  \n",
    "print(f\"Период: {years_aut:.1f} лет\")"
   ]
  },
  {
   "cell_type": "markdown",
   "id": "79625e33-5fbc-457e-ab94-22d86f5fe096",
   "metadata": {},
   "source": [
    "Определим активность регистрации и авторизации за все 22 года"
   ]
  },
  {
   "cell_type": "code",
   "execution_count": 145,
   "id": "1b7f0f37-2570-4ed6-adeb-455b2cb954af",
   "metadata": {},
   "outputs": [
    {
     "data": {
      "image/png": "[encoded data removed]",
      "text/plain": [
       "<Figure size 1600x600 with 2 Axes>"
      ]
     },
     "metadata": {},
     "output_type": "display_data"
    }
   ],
   "source": [
    "fig, (ax1, ax2) = plt.subplots(1, 2, figsize=(16, 6))\n",
    "\n",
    "sns.histplot(user_activity['registration_time'], bins=30, kde=True, ax=ax1, color='skyblue')\n",
    "ax1.set_title('Количество регистраций')\n",
    "ax1.set_xlabel('Дата регистрации')\n",
    "ax1.set_ylabel('Количество пользователей')\n",
    "\n",
    "sns.histplot(user_activity['time_to_game'], bins=30, kde=True, ax=ax2, color='skyblue')\n",
    "ax2.set_title('Количество авторизаций')\n",
    "ax2.set_xlabel('Дата авторизации')\n",
    "ax2.set_ylabel('Количество пользователей')\n",
    "\n",
    "plt.tight_layout()\n",
    "plt.show()"
   ]
  },
  {
   "cell_type": "markdown",
   "id": "66a5b815-69c6-4926-90c1-f5e0ad0a7aae",
   "metadata": {},
   "source": [
    "Наглядно видно, что активность как регистраций, так и авторизаций начинает постепенно увеличиваться с 2012 года, наибольшая активность наблюдается с 2016 года"
   ]
  },
  {
   "cell_type": "markdown",
   "id": "5f0e3af2-cd8f-4ad6-90d2-aa674d639e83",
   "metadata": {},
   "source": [
    "# Расчёт Retention Rate в мобильной игре\n",
    "\n",
    "Retention – один из самых важных показателей в компании. \n",
    "\n",
    "Задача – написать функцию, которая будет считать retention игроков (по дням от даты регистрации игрока)"
   ]
  },
  {
   "cell_type": "markdown",
   "id": "97864c8a-8209-4d33-96ff-956e27ffb0e3",
   "metadata": {},
   "source": [
    "Для расчёта Retention Rate будем использовать метод когортного анализа."
   ]
  },
  {
   "cell_type": "code",
   "execution_count": 44,
   "id": "f1301e57-571d-48a3-a938-900bdb16dd7e",
   "metadata": {},
   "outputs": [],
   "source": [
    "def Nday_retention(start_date, end_date, Ndays_for_analyze):\n",
    "    '''\n",
    "    Функция для расчета N-day retention. \n",
    "    Принимает следующие аргументы:\n",
    "    1. start_date - начало периода анализа (первая когорта) в формате 'YYYY-MM-DD'\n",
    "    2. end_date - конец периода анализа (последняя когорта) в формате 'YYYY-MM-DD'\n",
    "    3. Ndays_for_analyze - принимает список с номерами дней для анализа\n",
    "    '''\n",
    "    \n",
    "    # Считывание и преобразование данных\n",
    "    reg_data = pd.read_csv('problem1-reg_data.csv', sep=';')\n",
    "    auth_data = pd.read_csv('problem1-auth_data.csv', sep=';')\n",
    "    \n",
    "    # Преобразование в datetime и извлечение даты\n",
    "    reg_data['reg_ts'] = pd.to_datetime(reg_data['reg_ts'], unit='s').dt.date\n",
    "    auth_data['auth_ts'] = pd.to_datetime(auth_data['auth_ts'], unit='s').dt.date\n",
    "    \n",
    "    # Преобразование входных дат\n",
    "    start_date = pd.to_datetime(start_date).date()\n",
    "    end_date = pd.to_datetime(end_date).date()\n",
    "    \n",
    "    nday_list = []\n",
    "    unavailable_nday = []\n",
    "    \n",
    "    # Проверка доступности дней для анализа\n",
    "    for day in Ndays_for_analyze:\n",
    "        if (start_date + timedelta(days=day)) <= reg_data['reg_ts'].max():\n",
    "            nday_list.append(day)\n",
    "        else:\n",
    "            unavailable_nday.append(day)\n",
    "    \n",
    "    if unavailable_nday:\n",
    "        days_text = \"N-day\" if len(unavailable_nday) == 1 else \"N-days\"\n",
    "        print(f\"{days_text} {unavailable_nday} для когорт {start_date} - {end_date} на данный момент не наступил(и).\")\n",
    "    \n",
    "    # Объединение данных и расчет retention\n",
    "    retention_df = reg_data.merge(auth_data, on='uid', how='right')[['uid', 'reg_ts', 'auth_ts']]\n",
    "    \n",
    "    # Расчет разницы в днях (исправленная строка)\n",
    "    retention_df['day'] = (retention_df['auth_ts'] - retention_df['reg_ts']).apply(lambda x: x.days)\n",
    "    \n",
    "    retention_table = retention_df.query('day >= 0').groupby(['reg_ts', 'day'])['uid'].nunique().reset_index()\n",
    "    registration_user_count = retention_df.groupby('reg_ts')['uid'].nunique().reset_index()\n",
    "    registration_user_count.columns = ['reg_ts', 'cohort_size']\n",
    "    \n",
    "    retention_table = retention_table.merge(registration_user_count, on='reg_ts')\n",
    "    retention_table['retention'] = retention_table['uid'] / retention_table['cohort_size']\n",
    "    \n",
    "    pivot_retention = retention_table.pivot_table(index='reg_ts', columns='day', values='retention')\n",
    "    \n",
    "    # Формирование результата\n",
    "    if not nday_list:\n",
    "        return pd.DataFrame()  # Возвращаем пустой DataFrame, если нет доступных дней\n",
    "    \n",
    "    retention_output = pd.DataFrame(pivot_retention[nday_list]).reset_index()\n",
    "    retention_output = retention_output[(retention_output['reg_ts'] >= start_date) & \n",
    "                                      (retention_output['reg_ts'] <= end_date)]\n",
    "    \n",
    "    # Форматирование вывода\n",
    "    for col in retention_output.columns[1:]:\n",
    "        retention_output[col] = retention_output[col].apply(lambda x: f\"{x*100:.2f}%\" if pd.notnull(x) else \"\")\n",
    "    \n",
    "    retention_output = retention_output.rename(columns={'reg_ts': 'cohort_day'})\n",
    "    \n",
    "    return retention_output"
   ]
  },
  {
   "cell_type": "code",
   "execution_count": 45,
   "id": "d9970003-db3e-4b2a-9bbf-d2fddb804683",
   "metadata": {},
   "outputs": [
    {
     "data": {
      "text/html": [
       "<div>\n",
       "<style scoped>\n",
       "    .dataframe tbody tr th:only-of-type {\n",
       "        vertical-align: middle;\n",
       "    }\n",
       "\n",
       "    .dataframe tbody tr th {\n",
       "        vertical-align: top;\n",
       "    }\n",
       "\n",
       "    .dataframe thead th {\n",
       "        text-align: right;\n",
       "    }\n",
       "</style>\n",
       "<table border=\"1\" class=\"dataframe\">\n",
       "  <thead>\n",
       "    <tr style=\"text-align: right;\">\n",
       "      <th>day</th>\n",
       "      <th>cohort_day</th>\n",
       "      <th>1</th>\n",
       "      <th>3</th>\n",
       "      <th>7</th>\n",
       "      <th>14</th>\n",
       "      <th>30</th>\n",
       "      <th>60</th>\n",
       "      <th>90</th>\n",
       "    </tr>\n",
       "  </thead>\n",
       "  <tbody>\n",
       "    <tr>\n",
       "      <th>4812</th>\n",
       "      <td>2019-12-01</td>\n",
       "      <td>2.08%</td>\n",
       "      <td>4.07%</td>\n",
       "      <td>6.05%</td>\n",
       "      <td>4.37%</td>\n",
       "      <td>3.27%</td>\n",
       "      <td>0.79%</td>\n",
       "      <td>1.29%</td>\n",
       "    </tr>\n",
       "    <tr>\n",
       "      <th>4813</th>\n",
       "      <td>2019-12-02</td>\n",
       "      <td>2.67%</td>\n",
       "      <td>4.15%</td>\n",
       "      <td>6.63%</td>\n",
       "      <td>5.04%</td>\n",
       "      <td>2.97%</td>\n",
       "      <td>1.29%</td>\n",
       "      <td>1.38%</td>\n",
       "    </tr>\n",
       "    <tr>\n",
       "      <th>4814</th>\n",
       "      <td>2019-12-03</td>\n",
       "      <td>1.88%</td>\n",
       "      <td>4.74%</td>\n",
       "      <td>6.72%</td>\n",
       "      <td>4.45%</td>\n",
       "      <td>2.96%</td>\n",
       "      <td>1.38%</td>\n",
       "      <td>1.48%</td>\n",
       "    </tr>\n",
       "    <tr>\n",
       "      <th>4815</th>\n",
       "      <td>2019-12-04</td>\n",
       "      <td>1.58%</td>\n",
       "      <td>4.04%</td>\n",
       "      <td>6.51%</td>\n",
       "      <td>3.35%</td>\n",
       "      <td>2.47%</td>\n",
       "      <td>0.79%</td>\n",
       "      <td>0.69%</td>\n",
       "    </tr>\n",
       "    <tr>\n",
       "      <th>4816</th>\n",
       "      <td>2019-12-05</td>\n",
       "      <td>2.07%</td>\n",
       "      <td>4.73%</td>\n",
       "      <td>5.71%</td>\n",
       "      <td>4.83%</td>\n",
       "      <td>2.66%</td>\n",
       "      <td>1.77%</td>\n",
       "      <td>1.38%</td>\n",
       "    </tr>\n",
       "    <tr>\n",
       "      <th>4817</th>\n",
       "      <td>2019-12-06</td>\n",
       "      <td>2.36%</td>\n",
       "      <td>4.92%</td>\n",
       "      <td>5.70%</td>\n",
       "      <td>4.23%</td>\n",
       "      <td>2.56%</td>\n",
       "      <td>1.87%</td>\n",
       "      <td>1.18%</td>\n",
       "    </tr>\n",
       "    <tr>\n",
       "      <th>4818</th>\n",
       "      <td>2019-12-07</td>\n",
       "      <td>1.77%</td>\n",
       "      <td>5.69%</td>\n",
       "      <td>6.38%</td>\n",
       "      <td>5.50%</td>\n",
       "      <td>2.65%</td>\n",
       "      <td>1.08%</td>\n",
       "      <td>0.88%</td>\n",
       "    </tr>\n",
       "    <tr>\n",
       "      <th>4819</th>\n",
       "      <td>2019-12-08</td>\n",
       "      <td>2.25%</td>\n",
       "      <td>5.00%</td>\n",
       "      <td>4.70%</td>\n",
       "      <td>4.60%</td>\n",
       "      <td>3.53%</td>\n",
       "      <td>0.59%</td>\n",
       "      <td>1.76%</td>\n",
       "    </tr>\n",
       "    <tr>\n",
       "      <th>4820</th>\n",
       "      <td>2019-12-09</td>\n",
       "      <td>2.64%</td>\n",
       "      <td>4.60%</td>\n",
       "      <td>5.97%</td>\n",
       "      <td>5.58%</td>\n",
       "      <td>3.03%</td>\n",
       "      <td>1.27%</td>\n",
       "      <td>1.08%</td>\n",
       "    </tr>\n",
       "    <tr>\n",
       "      <th>4821</th>\n",
       "      <td>2019-12-10</td>\n",
       "      <td>2.25%</td>\n",
       "      <td>5.27%</td>\n",
       "      <td>6.35%</td>\n",
       "      <td>4.10%</td>\n",
       "      <td>2.15%</td>\n",
       "      <td>1.46%</td>\n",
       "      <td>1.46%</td>\n",
       "    </tr>\n",
       "    <tr>\n",
       "      <th>4822</th>\n",
       "      <td>2019-12-11</td>\n",
       "      <td>1.07%</td>\n",
       "      <td>4.68%</td>\n",
       "      <td>5.27%</td>\n",
       "      <td>4.59%</td>\n",
       "      <td>2.24%</td>\n",
       "      <td>1.17%</td>\n",
       "      <td>1.07%</td>\n",
       "    </tr>\n",
       "    <tr>\n",
       "      <th>4823</th>\n",
       "      <td>2019-12-12</td>\n",
       "      <td>2.53%</td>\n",
       "      <td>5.16%</td>\n",
       "      <td>5.74%</td>\n",
       "      <td>4.48%</td>\n",
       "      <td>2.73%</td>\n",
       "      <td>1.36%</td>\n",
       "      <td>1.75%</td>\n",
       "    </tr>\n",
       "    <tr>\n",
       "      <th>4824</th>\n",
       "      <td>2019-12-13</td>\n",
       "      <td>1.85%</td>\n",
       "      <td>4.18%</td>\n",
       "      <td>6.32%</td>\n",
       "      <td>5.64%</td>\n",
       "      <td>3.01%</td>\n",
       "      <td>1.36%</td>\n",
       "      <td>1.26%</td>\n",
       "    </tr>\n",
       "    <tr>\n",
       "      <th>4825</th>\n",
       "      <td>2019-12-14</td>\n",
       "      <td>2.62%</td>\n",
       "      <td>4.66%</td>\n",
       "      <td>5.63%</td>\n",
       "      <td>4.17%</td>\n",
       "      <td>2.91%</td>\n",
       "      <td>1.26%</td>\n",
       "      <td>0.87%</td>\n",
       "    </tr>\n",
       "    <tr>\n",
       "      <th>4826</th>\n",
       "      <td>2019-12-15</td>\n",
       "      <td>1.45%</td>\n",
       "      <td>4.55%</td>\n",
       "      <td>5.33%</td>\n",
       "      <td>5.23%</td>\n",
       "      <td>3.20%</td>\n",
       "      <td>1.94%</td>\n",
       "      <td>1.45%</td>\n",
       "    </tr>\n",
       "    <tr>\n",
       "      <th>4827</th>\n",
       "      <td>2019-12-16</td>\n",
       "      <td>1.16%</td>\n",
       "      <td>4.55%</td>\n",
       "      <td>5.90%</td>\n",
       "      <td>4.06%</td>\n",
       "      <td>2.80%</td>\n",
       "      <td>1.55%</td>\n",
       "      <td>1.55%</td>\n",
       "    </tr>\n",
       "    <tr>\n",
       "      <th>4828</th>\n",
       "      <td>2019-12-17</td>\n",
       "      <td>1.64%</td>\n",
       "      <td>4.73%</td>\n",
       "      <td>6.18%</td>\n",
       "      <td>3.67%</td>\n",
       "      <td>2.90%</td>\n",
       "      <td>1.54%</td>\n",
       "      <td>1.83%</td>\n",
       "    </tr>\n",
       "    <tr>\n",
       "      <th>4829</th>\n",
       "      <td>2019-12-18</td>\n",
       "      <td>1.25%</td>\n",
       "      <td>5.21%</td>\n",
       "      <td>6.75%</td>\n",
       "      <td>4.53%</td>\n",
       "      <td>2.89%</td>\n",
       "      <td>1.25%</td>\n",
       "      <td>1.54%</td>\n",
       "    </tr>\n",
       "    <tr>\n",
       "      <th>4830</th>\n",
       "      <td>2019-12-19</td>\n",
       "      <td>1.92%</td>\n",
       "      <td>5.39%</td>\n",
       "      <td>5.97%</td>\n",
       "      <td>3.85%</td>\n",
       "      <td>2.50%</td>\n",
       "      <td>0.87%</td>\n",
       "      <td>1.25%</td>\n",
       "    </tr>\n",
       "    <tr>\n",
       "      <th>4831</th>\n",
       "      <td>2019-12-20</td>\n",
       "      <td>2.11%</td>\n",
       "      <td>4.90%</td>\n",
       "      <td>6.34%</td>\n",
       "      <td>5.38%</td>\n",
       "      <td>2.88%</td>\n",
       "      <td>1.54%</td>\n",
       "      <td>1.06%</td>\n",
       "    </tr>\n",
       "    <tr>\n",
       "      <th>4832</th>\n",
       "      <td>2019-12-21</td>\n",
       "      <td>2.11%</td>\n",
       "      <td>4.41%</td>\n",
       "      <td>6.05%</td>\n",
       "      <td>5.18%</td>\n",
       "      <td>2.30%</td>\n",
       "      <td>1.06%</td>\n",
       "      <td>0.96%</td>\n",
       "    </tr>\n",
       "    <tr>\n",
       "      <th>4833</th>\n",
       "      <td>2019-12-22</td>\n",
       "      <td>1.53%</td>\n",
       "      <td>5.55%</td>\n",
       "      <td>6.12%</td>\n",
       "      <td>3.64%</td>\n",
       "      <td>2.58%</td>\n",
       "      <td>1.05%</td>\n",
       "      <td>1.24%</td>\n",
       "    </tr>\n",
       "    <tr>\n",
       "      <th>4834</th>\n",
       "      <td>2019-12-23</td>\n",
       "      <td>2.01%</td>\n",
       "      <td>4.02%</td>\n",
       "      <td>6.69%</td>\n",
       "      <td>4.97%</td>\n",
       "      <td>3.25%</td>\n",
       "      <td>1.53%</td>\n",
       "      <td>0.96%</td>\n",
       "    </tr>\n",
       "    <tr>\n",
       "      <th>4835</th>\n",
       "      <td>2019-12-24</td>\n",
       "      <td>2.01%</td>\n",
       "      <td>4.49%</td>\n",
       "      <td>5.83%</td>\n",
       "      <td>3.92%</td>\n",
       "      <td>1.72%</td>\n",
       "      <td>1.05%</td>\n",
       "      <td>1.05%</td>\n",
       "    </tr>\n",
       "    <tr>\n",
       "      <th>4836</th>\n",
       "      <td>2019-12-25</td>\n",
       "      <td>2.29%</td>\n",
       "      <td>6.10%</td>\n",
       "      <td>5.24%</td>\n",
       "      <td>3.62%</td>\n",
       "      <td>2.19%</td>\n",
       "      <td>1.52%</td>\n",
       "      <td>1.43%</td>\n",
       "    </tr>\n",
       "    <tr>\n",
       "      <th>4837</th>\n",
       "      <td>2019-12-26</td>\n",
       "      <td>2.47%</td>\n",
       "      <td>3.62%</td>\n",
       "      <td>6.09%</td>\n",
       "      <td>5.33%</td>\n",
       "      <td>3.24%</td>\n",
       "      <td>1.33%</td>\n",
       "      <td>1.43%</td>\n",
       "    </tr>\n",
       "    <tr>\n",
       "      <th>4838</th>\n",
       "      <td>2019-12-27</td>\n",
       "      <td>2.37%</td>\n",
       "      <td>3.13%</td>\n",
       "      <td>7.03%</td>\n",
       "      <td>3.70%</td>\n",
       "      <td>2.75%</td>\n",
       "      <td>1.04%</td>\n",
       "      <td>1.14%</td>\n",
       "    </tr>\n",
       "    <tr>\n",
       "      <th>4839</th>\n",
       "      <td>2019-12-28</td>\n",
       "      <td>1.80%</td>\n",
       "      <td>4.46%</td>\n",
       "      <td>5.69%</td>\n",
       "      <td>4.17%</td>\n",
       "      <td>2.37%</td>\n",
       "      <td>1.23%</td>\n",
       "      <td>1.14%</td>\n",
       "    </tr>\n",
       "    <tr>\n",
       "      <th>4840</th>\n",
       "      <td>2019-12-29</td>\n",
       "      <td>1.42%</td>\n",
       "      <td>5.30%</td>\n",
       "      <td>5.87%</td>\n",
       "      <td>3.97%</td>\n",
       "      <td>2.27%</td>\n",
       "      <td>0.85%</td>\n",
       "      <td>1.23%</td>\n",
       "    </tr>\n",
       "    <tr>\n",
       "      <th>4841</th>\n",
       "      <td>2019-12-30</td>\n",
       "      <td>1.89%</td>\n",
       "      <td>5.20%</td>\n",
       "      <td>4.63%</td>\n",
       "      <td>4.73%</td>\n",
       "      <td>2.74%</td>\n",
       "      <td>1.51%</td>\n",
       "      <td>2.08%</td>\n",
       "    </tr>\n",
       "    <tr>\n",
       "      <th>4842</th>\n",
       "      <td>2019-12-31</td>\n",
       "      <td>2.08%</td>\n",
       "      <td>5.57%</td>\n",
       "      <td>5.75%</td>\n",
       "      <td>4.81%</td>\n",
       "      <td>3.77%</td>\n",
       "      <td>1.42%</td>\n",
       "      <td>1.70%</td>\n",
       "    </tr>\n",
       "  </tbody>\n",
       "</table>\n",
       "</div>"
      ],
      "text/plain": [
       "day   cohort_day      1      3      7     14     30     60     90\n",
       "4812  2019-12-01  2.08%  4.07%  6.05%  4.37%  3.27%  0.79%  1.29%\n",
       "4813  2019-12-02  2.67%  4.15%  6.63%  5.04%  2.97%  1.29%  1.38%\n",
       "4814  2019-12-03  1.88%  4.74%  6.72%  4.45%  2.96%  1.38%  1.48%\n",
       "4815  2019-12-04  1.58%  4.04%  6.51%  3.35%  2.47%  0.79%  0.69%\n",
       "4816  2019-12-05  2.07%  4.73%  5.71%  4.83%  2.66%  1.77%  1.38%\n",
       "4817  2019-12-06  2.36%  4.92%  5.70%  4.23%  2.56%  1.87%  1.18%\n",
       "4818  2019-12-07  1.77%  5.69%  6.38%  5.50%  2.65%  1.08%  0.88%\n",
       "4819  2019-12-08  2.25%  5.00%  4.70%  4.60%  3.53%  0.59%  1.76%\n",
       "4820  2019-12-09  2.64%  4.60%  5.97%  5.58%  3.03%  1.27%  1.08%\n",
       "4821  2019-12-10  2.25%  5.27%  6.35%  4.10%  2.15%  1.46%  1.46%\n",
       "4822  2019-12-11  1.07%  4.68%  5.27%  4.59%  2.24%  1.17%  1.07%\n",
       "4823  2019-12-12  2.53%  5.16%  5.74%  4.48%  2.73%  1.36%  1.75%\n",
       "4824  2019-12-13  1.85%  4.18%  6.32%  5.64%  3.01%  1.36%  1.26%\n",
       "4825  2019-12-14  2.62%  4.66%  5.63%  4.17%  2.91%  1.26%  0.87%\n",
       "4826  2019-12-15  1.45%  4.55%  5.33%  5.23%  3.20%  1.94%  1.45%\n",
       "4827  2019-12-16  1.16%  4.55%  5.90%  4.06%  2.80%  1.55%  1.55%\n",
       "4828  2019-12-17  1.64%  4.73%  6.18%  3.67%  2.90%  1.54%  1.83%\n",
       "4829  2019-12-18  1.25%  5.21%  6.75%  4.53%  2.89%  1.25%  1.54%\n",
       "4830  2019-12-19  1.92%  5.39%  5.97%  3.85%  2.50%  0.87%  1.25%\n",
       "4831  2019-12-20  2.11%  4.90%  6.34%  5.38%  2.88%  1.54%  1.06%\n",
       "4832  2019-12-21  2.11%  4.41%  6.05%  5.18%  2.30%  1.06%  0.96%\n",
       "4833  2019-12-22  1.53%  5.55%  6.12%  3.64%  2.58%  1.05%  1.24%\n",
       "4834  2019-12-23  2.01%  4.02%  6.69%  4.97%  3.25%  1.53%  0.96%\n",
       "4835  2019-12-24  2.01%  4.49%  5.83%  3.92%  1.72%  1.05%  1.05%\n",
       "4836  2019-12-25  2.29%  6.10%  5.24%  3.62%  2.19%  1.52%  1.43%\n",
       "4837  2019-12-26  2.47%  3.62%  6.09%  5.33%  3.24%  1.33%  1.43%\n",
       "4838  2019-12-27  2.37%  3.13%  7.03%  3.70%  2.75%  1.04%  1.14%\n",
       "4839  2019-12-28  1.80%  4.46%  5.69%  4.17%  2.37%  1.23%  1.14%\n",
       "4840  2019-12-29  1.42%  5.30%  5.87%  3.97%  2.27%  0.85%  1.23%\n",
       "4841  2019-12-30  1.89%  5.20%  4.63%  4.73%  2.74%  1.51%  2.08%\n",
       "4842  2019-12-31  2.08%  5.57%  5.75%  4.81%  3.77%  1.42%  1.70%"
      ]
     },
     "execution_count": 45,
     "metadata": {},
     "output_type": "execute_result"
    }
   ],
   "source": [
    "start_date = '2019-12-01'\n",
    "end_date = '2019-12-31'\n",
    "Ndays_for_analyze = [1,3,7,14,30,60,90]\n",
    "Nday_retention(start_date, end_date, Ndays_for_analyze)"
   ]
  },
  {
   "cell_type": "markdown",
   "id": "791c663b-87ff-4d7d-b9bd-fa54018b89ba",
   "metadata": {},
   "source": [
    "# Анализ A/B-теста: сравнение эффективности акционных предложений в мобильной игре"
   ]
  },
  {
   "cell_type": "markdown",
   "id": "25aa37f3-5642-41f0-9bda-ae76df994736",
   "metadata": {},
   "source": [
    "Имеются результаты A/B теста, в котором двум группам пользователей предлагались различные наборы акционных предложений. Известно, что ARPU в тестовой группе выше на 5%, чем в контрольной. При этом в контрольной группе 1928 игроков из 202103 оказались платящими, а в тестовой – 1805 из 202667.\n",
    "\n",
    "Какой набор предложений можно считать лучшим? Какие метрики стоит проанализировать для принятия правильного решения и как?"
   ]
  },
  {
   "cell_type": "code",
   "execution_count": 3,
   "id": "bd37b985-e1c5-4904-bba9-e67622257187",
   "metadata": {},
   "outputs": [
    {
     "data": {
      "text/html": [
       "<div>\n",
       "<style scoped>\n",
       "    .dataframe tbody tr th:only-of-type {\n",
       "        vertical-align: middle;\n",
       "    }\n",
       "\n",
       "    .dataframe tbody tr th {\n",
       "        vertical-align: top;\n",
       "    }\n",
       "\n",
       "    .dataframe thead th {\n",
       "        text-align: right;\n",
       "    }\n",
       "</style>\n",
       "<table border=\"1\" class=\"dataframe\">\n",
       "  <thead>\n",
       "    <tr style=\"text-align: right;\">\n",
       "      <th></th>\n",
       "      <th>user_id</th>\n",
       "      <th>revenue</th>\n",
       "      <th>testgroup</th>\n",
       "    </tr>\n",
       "  </thead>\n",
       "  <tbody>\n",
       "    <tr>\n",
       "      <th>0</th>\n",
       "      <td>1</td>\n",
       "      <td>0</td>\n",
       "      <td>b</td>\n",
       "    </tr>\n",
       "    <tr>\n",
       "      <th>1</th>\n",
       "      <td>2</td>\n",
       "      <td>0</td>\n",
       "      <td>a</td>\n",
       "    </tr>\n",
       "    <tr>\n",
       "      <th>2</th>\n",
       "      <td>3</td>\n",
       "      <td>0</td>\n",
       "      <td>a</td>\n",
       "    </tr>\n",
       "    <tr>\n",
       "      <th>3</th>\n",
       "      <td>4</td>\n",
       "      <td>0</td>\n",
       "      <td>b</td>\n",
       "    </tr>\n",
       "    <tr>\n",
       "      <th>4</th>\n",
       "      <td>5</td>\n",
       "      <td>0</td>\n",
       "      <td>b</td>\n",
       "    </tr>\n",
       "    <tr>\n",
       "      <th>...</th>\n",
       "      <td>...</td>\n",
       "      <td>...</td>\n",
       "      <td>...</td>\n",
       "    </tr>\n",
       "    <tr>\n",
       "      <th>404765</th>\n",
       "      <td>404766</td>\n",
       "      <td>0</td>\n",
       "      <td>a</td>\n",
       "    </tr>\n",
       "    <tr>\n",
       "      <th>404766</th>\n",
       "      <td>404767</td>\n",
       "      <td>0</td>\n",
       "      <td>b</td>\n",
       "    </tr>\n",
       "    <tr>\n",
       "      <th>404767</th>\n",
       "      <td>404768</td>\n",
       "      <td>231</td>\n",
       "      <td>a</td>\n",
       "    </tr>\n",
       "    <tr>\n",
       "      <th>404768</th>\n",
       "      <td>404769</td>\n",
       "      <td>0</td>\n",
       "      <td>a</td>\n",
       "    </tr>\n",
       "    <tr>\n",
       "      <th>404769</th>\n",
       "      <td>404770</td>\n",
       "      <td>0</td>\n",
       "      <td>b</td>\n",
       "    </tr>\n",
       "  </tbody>\n",
       "</table>\n",
       "<p>404770 rows × 3 columns</p>\n",
       "</div>"
      ],
      "text/plain": [
       "        user_id  revenue testgroup\n",
       "0             1        0         b\n",
       "1             2        0         a\n",
       "2             3        0         a\n",
       "3             4        0         b\n",
       "4             5        0         b\n",
       "...         ...      ...       ...\n",
       "404765   404766        0         a\n",
       "404766   404767        0         b\n",
       "404767   404768      231         a\n",
       "404768   404769        0         a\n",
       "404769   404770        0         b\n",
       "\n",
       "[404770 rows x 3 columns]"
      ]
     },
     "execution_count": 3,
     "metadata": {},
     "output_type": "execute_result"
    }
   ],
   "source": [
    "A_B=pd.read_csv('A_B_test.csv', sep=';')\n",
    "A_B"
   ]
  },
  {
   "cell_type": "markdown",
   "id": "34e41992-6474-4b43-a51c-3a22d1e1c09d",
   "metadata": {},
   "source": [
    "Необходимо провести предобработку данных.\n",
    "\n",
    "Определяем наличие пропущенных значений:"
   ]
  },
  {
   "cell_type": "code",
   "execution_count": 4,
   "id": "1eaff133-384c-4a54-a763-ee9de2b40c7a",
   "metadata": {},
   "outputs": [
    {
     "data": {
      "text/plain": [
       "user_id      0\n",
       "revenue      0\n",
       "testgroup    0\n",
       "dtype: int64"
      ]
     },
     "execution_count": 4,
     "metadata": {},
     "output_type": "execute_result"
    }
   ],
   "source": [
    "A_B.isna().sum()"
   ]
  },
  {
   "cell_type": "markdown",
   "id": "d40a5301-8602-4fe5-ba69-1908e5c59ea7",
   "metadata": {},
   "source": [
    "Пропуски отсутствуют. Определим есть ли дубликаты в таблице:"
   ]
  },
  {
   "cell_type": "code",
   "execution_count": 5,
   "id": "5c95d0c0-5954-4c66-906c-88357201649a",
   "metadata": {},
   "outputs": [
    {
     "data": {
      "text/plain": [
       "0"
      ]
     },
     "execution_count": 5,
     "metadata": {},
     "output_type": "execute_result"
    }
   ],
   "source": [
    "int(A_B.duplicated().sum())"
   ]
  },
  {
   "cell_type": "markdown",
   "id": "ee5fd79d-cd6e-4f52-8c1f-e3e69a17e056",
   "metadata": {},
   "source": [
    "Дубликаты также отсутствуют. "
   ]
  },
  {
   "cell_type": "markdown",
   "id": "646be23e-689d-4041-bbbd-bf5affe5426c",
   "metadata": {},
   "source": [
    "Проверяем распределение пользователей по группам"
   ]
  },
  {
   "cell_type": "code",
   "execution_count": 6,
   "id": "c031301f-c7c1-49cc-9c4b-85bd26f79c6b",
   "metadata": {},
   "outputs": [
    {
     "data": {
      "text/plain": [
       "testgroup\n",
       "b    202667\n",
       "a    202103\n",
       "Name: count, dtype: int64"
      ]
     },
     "execution_count": 6,
     "metadata": {},
     "output_type": "execute_result"
    }
   ],
   "source": [
    "A_B['testgroup'].value_counts()"
   ]
  },
  {
   "cell_type": "code",
   "execution_count": 7,
   "id": "568056f8-a437-4fe3-8e9e-8ce599ae154a",
   "metadata": {},
   "outputs": [
    {
     "data": {
      "text/plain": [
       "1.0"
      ]
     },
     "execution_count": 7,
     "metadata": {},
     "output_type": "execute_result"
    }
   ],
   "source": [
    "round(202667/202103,2)"
   ]
  },
  {
   "cell_type": "code",
   "execution_count": 8,
   "id": "e6245ccb-efbe-49d3-9f19-6910da0a9190",
   "metadata": {},
   "outputs": [
    {
     "data": {
      "image/png": "[encoded data removed]",
      "text/plain": [
       "<Figure size 640x480 with 1 Axes>"
      ]
     },
     "metadata": {},
     "output_type": "display_data"
    }
   ],
   "source": [
    "sns.countplot(data=A_B, x='testgroup', \n",
    "              hue='testgroup',\n",
    "              palette=['#1f77b4', '#ff7f0e']) \n",
    "\n",
    "plt.title('Распределение групп A и B')\n",
    "plt.xlabel('Группа тестирования')\n",
    "plt.ylabel('Количество пользователей')\n",
    "plt.show()"
   ]
  },
  {
   "cell_type": "markdown",
   "id": "5679ca28-6d51-4d7f-aae7-2ca076743318",
   "metadata": {},
   "source": [
    "Распределение пользователей корректно, так как близко к 50/50"
   ]
  },
  {
   "cell_type": "markdown",
   "id": "26da770d-114e-4c91-8f25-4477cbd90a8b",
   "metadata": {},
   "source": [
    "Определим корректность маркировки групп. Находятся ли пользователи одновременно в обеих группах"
   ]
  },
  {
   "cell_type": "code",
   "execution_count": 9,
   "id": "c2957a16-30b1-4fdc-94e2-6e218f94ce7d",
   "metadata": {},
   "outputs": [
    {
     "data": {
      "text/plain": [
       "set()"
      ]
     },
     "execution_count": 9,
     "metadata": {},
     "output_type": "execute_result"
    }
   ],
   "source": [
    "users_a = set(A_B[A_B['testgroup'] == 'a']['user_id'])\n",
    "users_b = set(A_B[A_B['testgroup'] == 'b']['user_id'])\n",
    "users_a & users_b  # Пересечение множеств"
   ]
  },
  {
   "cell_type": "markdown",
   "id": "752e50de-3e80-4737-90a5-3d7977336a5d",
   "metadata": {},
   "source": [
    "В данных нет ни одного пользователя, который одновременно находился бы в обеих тестовых группах, все пользователи уникальны."
   ]
  },
  {
   "cell_type": "markdown",
   "id": "4d3c1b35-7415-4ac3-8123-c156278b292a",
   "metadata": {},
   "source": [
    "Определим активность пользователей. Существуют ли пользователи, которые не совершили ни одного действия?"
   ]
  },
  {
   "cell_type": "code",
   "execution_count": 10,
   "id": "f428d7b0-66e3-4ef1-b4ff-df624d588978",
   "metadata": {},
   "outputs": [
    {
     "data": {
      "text/plain": [
       "revenue\n",
       "True     401037\n",
       "False      3733\n",
       "Name: count, dtype: int64"
      ]
     },
     "execution_count": 10,
     "metadata": {},
     "output_type": "execute_result"
    }
   ],
   "source": [
    "zero_activity = A_B.groupby('user_id')['revenue'].sum() == 0\n",
    "zero_activity.value_counts()  "
   ]
  },
  {
   "cell_type": "markdown",
   "id": "d2378e7b-0407-4267-8226-f95c901ea9f9",
   "metadata": {},
   "source": [
    "Количество пользователей, у которых суммарный доход (revenue) равен 0 (неактивные пользователи, не совершившие ни одного платежа) составляет 401037\n",
    "\n",
    "Количество пользователей с доходом > 0 (активные платящие пользователи) составляет 3733"
   ]
  },
  {
   "cell_type": "markdown",
   "id": "e75460cf-a614-45e8-bbb0-07ad845a8324",
   "metadata": {},
   "source": [
    "Определим активность в каждой из групп"
   ]
  },
  {
   "cell_type": "code",
   "execution_count": 11,
   "id": "27c207cb-0ffc-4ec8-b4f8-fa1cdd796bbe",
   "metadata": {},
   "outputs": [],
   "source": [
    "A_B['is_active'] = A_B.groupby('user_id')['revenue'].transform('sum') > 0"
   ]
  },
  {
   "cell_type": "code",
   "execution_count": 12,
   "id": "39f2df20-d1bc-40ac-9ce2-1fffaf33894d",
   "metadata": {},
   "outputs": [
    {
     "name": "stdout",
     "output_type": "stream",
     "text": [
      "is_active   False  True \n",
      "testgroup               \n",
      "a          200175   1928\n",
      "b          200862   1805\n"
     ]
    }
   ],
   "source": [
    "activity_by_group = A_B.groupby(['testgroup', 'is_active']).size().unstack()\n",
    "print(activity_by_group)"
   ]
  },
  {
   "cell_type": "code",
   "execution_count": 13,
   "id": "b8985d9f-d22f-4ff8-9e32-bc761107aabf",
   "metadata": {},
   "outputs": [
    {
     "data": {
      "image/png": "[encoded data removed]",
      "text/plain": [
       "<Figure size 1000x600 with 1 Axes>"
      ]
     },
     "metadata": {},
     "output_type": "display_data"
    }
   ],
   "source": [
    "plt.figure(figsize=(10, 6))\n",
    "sns.countplot(data=A_B, x='testgroup', hue='is_active', \n",
    "             palette={True: '#4caf50', False: '#f44336'})\n",
    "\n",
    "plt.title('Распределение активных/неактивных пользователей по группам')\n",
    "plt.xlabel('Группа тестирования')\n",
    "plt.ylabel('Количество пользователей')\n",
    "plt.legend(title='Активность', labels=['Неактивные', 'Активные'])\n",
    "plt.show()"
   ]
  },
  {
   "cell_type": "markdown",
   "id": "e78557d4-c985-4bef-ab28-9b7121f6d87c",
   "metadata": {},
   "source": [
    "Проверим корректность значения revenue. Есть ли в таблице с данными отрицательные значения платежей и выбросы?"
   ]
  },
  {
   "cell_type": "code",
   "execution_count": 14,
   "id": "879690e8-594a-4686-8c03-d4e09c03b3d5",
   "metadata": {},
   "outputs": [
    {
     "data": {
      "text/html": [
       "<div>\n",
       "<style scoped>\n",
       "    .dataframe tbody tr th:only-of-type {\n",
       "        vertical-align: middle;\n",
       "    }\n",
       "\n",
       "    .dataframe tbody tr th {\n",
       "        vertical-align: top;\n",
       "    }\n",
       "\n",
       "    .dataframe thead th {\n",
       "        text-align: right;\n",
       "    }\n",
       "</style>\n",
       "<table border=\"1\" class=\"dataframe\">\n",
       "  <thead>\n",
       "    <tr style=\"text-align: right;\">\n",
       "      <th></th>\n",
       "      <th>user_id</th>\n",
       "      <th>revenue</th>\n",
       "      <th>testgroup</th>\n",
       "      <th>is_active</th>\n",
       "    </tr>\n",
       "  </thead>\n",
       "  <tbody>\n",
       "  </tbody>\n",
       "</table>\n",
       "</div>"
      ],
      "text/plain": [
       "Empty DataFrame\n",
       "Columns: [user_id, revenue, testgroup, is_active]\n",
       "Index: []"
      ]
     },
     "execution_count": 14,
     "metadata": {},
     "output_type": "execute_result"
    }
   ],
   "source": [
    "A_B[A_B['revenue'] < 0]"
   ]
  },
  {
   "cell_type": "markdown",
   "id": "c5f2428f-9f96-4a2d-a956-a0ed3c7e85d4",
   "metadata": {},
   "source": [
    "Наличие отрицательных значений в платежах исключено."
   ]
  },
  {
   "cell_type": "code",
   "execution_count": 15,
   "id": "ce6060cc-600a-40f2-a475-fefcf2bf2c36",
   "metadata": {},
   "outputs": [
    {
     "data": {
      "text/plain": [
       "count    404770.000000\n",
       "mean         26.083435\n",
       "std         681.652928\n",
       "min           0.000000\n",
       "25%           0.000000\n",
       "50%           0.000000\n",
       "75%           0.000000\n",
       "max       37433.000000\n",
       "Name: revenue, dtype: float64"
      ]
     },
     "execution_count": 15,
     "metadata": {},
     "output_type": "execute_result"
    }
   ],
   "source": [
    "A_B['revenue'].describe()"
   ]
  },
  {
   "cell_type": "markdown",
   "id": "fe116166-1a03-458c-a1ce-49479583f9bd",
   "metadata": {},
   "source": [
    "Средний доход (mean): 26.08 на пользователя\n",
    "\n",
    "Стандартное отклонение (std): 681.65 — очень высокий разброс\n",
    "\n",
    "Медиана (50%): 0 — подтверждает, что большинство пользователей не платит\n",
    "\n",
    "Максимум (max): 37433 — потенциальный выброс"
   ]
  },
  {
   "cell_type": "markdown",
   "id": "a6eab382-0b76-443b-940e-f872b31a2339",
   "metadata": {},
   "source": [
    "Оценим визуально как происходит распределение платежей по группам"
   ]
  },
  {
   "cell_type": "code",
   "execution_count": 16,
   "id": "c90588ac-30e0-48fd-bcad-ab88d1da3f2a",
   "metadata": {},
   "outputs": [
    {
     "data": {
      "image/png": "[encoded data removed]",
      "text/plain": [
       "<Figure size 1200x600 with 1 Axes>"
      ]
     },
     "metadata": {},
     "output_type": "display_data"
    }
   ],
   "source": [
    "paying_users = A_B[A_B['revenue'] > 0]\n",
    "\n",
    "plt.figure(figsize=(12, 6))\n",
    "sns.histplot(\n",
    "    data=paying_users,\n",
    "    x='revenue',\n",
    "    hue='testgroup',\n",
    "    bins=50,\n",
    "    alpha=0.6,\n",
    "    kde=True)\n",
    "\n",
    "plt.title('Распределение платежей по группам (только платящие)')\n",
    "plt.xlabel('Сумма платежа')\n",
    "plt.ylabel('Количество пользователей')\n",
    "plt.show()"
   ]
  },
  {
   "cell_type": "markdown",
   "id": "cb746780-0551-4298-bf1e-3e629bb5235c",
   "metadata": {},
   "source": [
    "Для лучшей наглядности прологарифмируем значения (так как очень много нулей)"
   ]
  },
  {
   "cell_type": "code",
   "execution_count": 17,
   "id": "3603750a-01ec-482c-b3f3-a6b71231a057",
   "metadata": {},
   "outputs": [
    {
     "data": {
      "image/png": "[encoded data removed]",
      "text/plain": [
       "<Figure size 640x480 with 1 Axes>"
      ]
     },
     "metadata": {},
     "output_type": "display_data"
    }
   ],
   "source": [
    "sns.histplot(\n",
    "    data=A_B[A_B['revenue'] > 0],  # Только платящие\n",
    "    x='revenue',\n",
    "    hue='testgroup',\n",
    "    bins=50,\n",
    "    log_scale=True,\n",
    "    alpha=0.6,\n",
    "    kde=True)\n",
    "\n",
    "plt.title('Распределение платежей по группам (логарифмическая шкала)')\n",
    "plt.xlabel('Сумма платежа (логарифмированная шкала)')\n",
    "plt.ylabel('Количество пользователей (линейная шкала)')\n",
    "plt.show()"
   ]
  },
  {
   "cell_type": "markdown",
   "id": "8acf3af5-5233-4b9d-addd-4a3a8e4f15b0",
   "metadata": {},
   "source": [
    "Для группы А:\n",
    "\n",
    "- Основная масса: много мелких платежей\n",
    "- Какая-то часть приходися на выбросы\n",
    " \n",
    "Для группы В:\n",
    "\n",
    "- Платежи сконцентрированы в одном диапазоне\n",
    "- Нет экстремальных выбросов"
   ]
  },
  {
   "cell_type": "markdown",
   "id": "5ae568e8-291f-407b-9151-a733b38230cf",
   "metadata": {},
   "source": [
    "Посмотрим на общую статистику для каждой группы конкретно"
   ]
  },
  {
   "cell_type": "code",
   "execution_count": 18,
   "id": "659d851b-a1e3-4ab8-99d6-bf3177baa533",
   "metadata": {},
   "outputs": [
    {
     "data": {
      "text/html": [
       "<div>\n",
       "<style scoped>\n",
       "    .dataframe tbody tr th:only-of-type {\n",
       "        vertical-align: middle;\n",
       "    }\n",
       "\n",
       "    .dataframe tbody tr th {\n",
       "        vertical-align: top;\n",
       "    }\n",
       "\n",
       "    .dataframe thead th {\n",
       "        text-align: right;\n",
       "    }\n",
       "</style>\n",
       "<table border=\"1\" class=\"dataframe\">\n",
       "  <thead>\n",
       "    <tr style=\"text-align: right;\">\n",
       "      <th></th>\n",
       "      <th>user_id</th>\n",
       "      <th>revenue</th>\n",
       "      <th>testgroup</th>\n",
       "      <th>is_active</th>\n",
       "    </tr>\n",
       "  </thead>\n",
       "  <tbody>\n",
       "    <tr>\n",
       "      <th>1</th>\n",
       "      <td>2</td>\n",
       "      <td>0</td>\n",
       "      <td>a</td>\n",
       "      <td>False</td>\n",
       "    </tr>\n",
       "    <tr>\n",
       "      <th>2</th>\n",
       "      <td>3</td>\n",
       "      <td>0</td>\n",
       "      <td>a</td>\n",
       "      <td>False</td>\n",
       "    </tr>\n",
       "    <tr>\n",
       "      <th>9</th>\n",
       "      <td>10</td>\n",
       "      <td>0</td>\n",
       "      <td>a</td>\n",
       "      <td>False</td>\n",
       "    </tr>\n",
       "    <tr>\n",
       "      <th>10</th>\n",
       "      <td>11</td>\n",
       "      <td>0</td>\n",
       "      <td>a</td>\n",
       "      <td>False</td>\n",
       "    </tr>\n",
       "    <tr>\n",
       "      <th>11</th>\n",
       "      <td>12</td>\n",
       "      <td>0</td>\n",
       "      <td>a</td>\n",
       "      <td>False</td>\n",
       "    </tr>\n",
       "    <tr>\n",
       "      <th>...</th>\n",
       "      <td>...</td>\n",
       "      <td>...</td>\n",
       "      <td>...</td>\n",
       "      <td>...</td>\n",
       "    </tr>\n",
       "    <tr>\n",
       "      <th>404760</th>\n",
       "      <td>404761</td>\n",
       "      <td>0</td>\n",
       "      <td>a</td>\n",
       "      <td>False</td>\n",
       "    </tr>\n",
       "    <tr>\n",
       "      <th>404762</th>\n",
       "      <td>404763</td>\n",
       "      <td>0</td>\n",
       "      <td>a</td>\n",
       "      <td>False</td>\n",
       "    </tr>\n",
       "    <tr>\n",
       "      <th>404765</th>\n",
       "      <td>404766</td>\n",
       "      <td>0</td>\n",
       "      <td>a</td>\n",
       "      <td>False</td>\n",
       "    </tr>\n",
       "    <tr>\n",
       "      <th>404767</th>\n",
       "      <td>404768</td>\n",
       "      <td>231</td>\n",
       "      <td>a</td>\n",
       "      <td>True</td>\n",
       "    </tr>\n",
       "    <tr>\n",
       "      <th>404768</th>\n",
       "      <td>404769</td>\n",
       "      <td>0</td>\n",
       "      <td>a</td>\n",
       "      <td>False</td>\n",
       "    </tr>\n",
       "  </tbody>\n",
       "</table>\n",
       "<p>202103 rows × 4 columns</p>\n",
       "</div>"
      ],
      "text/plain": [
       "        user_id  revenue testgroup  is_active\n",
       "1             2        0         a      False\n",
       "2             3        0         a      False\n",
       "9            10        0         a      False\n",
       "10           11        0         a      False\n",
       "11           12        0         a      False\n",
       "...         ...      ...       ...        ...\n",
       "404760   404761        0         a      False\n",
       "404762   404763        0         a      False\n",
       "404765   404766        0         a      False\n",
       "404767   404768      231         a       True\n",
       "404768   404769        0         a      False\n",
       "\n",
       "[202103 rows x 4 columns]"
      ]
     },
     "execution_count": 18,
     "metadata": {},
     "output_type": "execute_result"
    }
   ],
   "source": [
    "group_a=A_B.query('testgroup==\"a\"')\n",
    "group_a"
   ]
  },
  {
   "cell_type": "code",
   "execution_count": 19,
   "id": "1a591f9f-651c-40c5-bfa0-f3e7bfda7d35",
   "metadata": {},
   "outputs": [
    {
     "data": {
      "text/html": [
       "<div>\n",
       "<style scoped>\n",
       "    .dataframe tbody tr th:only-of-type {\n",
       "        vertical-align: middle;\n",
       "    }\n",
       "\n",
       "    .dataframe tbody tr th {\n",
       "        vertical-align: top;\n",
       "    }\n",
       "\n",
       "    .dataframe thead th {\n",
       "        text-align: right;\n",
       "    }\n",
       "</style>\n",
       "<table border=\"1\" class=\"dataframe\">\n",
       "  <thead>\n",
       "    <tr style=\"text-align: right;\">\n",
       "      <th></th>\n",
       "      <th>user_id</th>\n",
       "      <th>revenue</th>\n",
       "      <th>testgroup</th>\n",
       "      <th>is_active</th>\n",
       "    </tr>\n",
       "  </thead>\n",
       "  <tbody>\n",
       "    <tr>\n",
       "      <th>72</th>\n",
       "      <td>73</td>\n",
       "      <td>351</td>\n",
       "      <td>a</td>\n",
       "      <td>True</td>\n",
       "    </tr>\n",
       "    <tr>\n",
       "      <th>341</th>\n",
       "      <td>342</td>\n",
       "      <td>290</td>\n",
       "      <td>a</td>\n",
       "      <td>True</td>\n",
       "    </tr>\n",
       "    <tr>\n",
       "      <th>385</th>\n",
       "      <td>386</td>\n",
       "      <td>250</td>\n",
       "      <td>a</td>\n",
       "      <td>True</td>\n",
       "    </tr>\n",
       "    <tr>\n",
       "      <th>416</th>\n",
       "      <td>417</td>\n",
       "      <td>37324</td>\n",
       "      <td>a</td>\n",
       "      <td>True</td>\n",
       "    </tr>\n",
       "    <tr>\n",
       "      <th>712</th>\n",
       "      <td>713</td>\n",
       "      <td>255</td>\n",
       "      <td>a</td>\n",
       "      <td>True</td>\n",
       "    </tr>\n",
       "    <tr>\n",
       "      <th>...</th>\n",
       "      <td>...</td>\n",
       "      <td>...</td>\n",
       "      <td>...</td>\n",
       "      <td>...</td>\n",
       "    </tr>\n",
       "    <tr>\n",
       "      <th>404304</th>\n",
       "      <td>404305</td>\n",
       "      <td>360</td>\n",
       "      <td>a</td>\n",
       "      <td>True</td>\n",
       "    </tr>\n",
       "    <tr>\n",
       "      <th>404315</th>\n",
       "      <td>404316</td>\n",
       "      <td>262</td>\n",
       "      <td>a</td>\n",
       "      <td>True</td>\n",
       "    </tr>\n",
       "    <tr>\n",
       "      <th>404543</th>\n",
       "      <td>404544</td>\n",
       "      <td>369</td>\n",
       "      <td>a</td>\n",
       "      <td>True</td>\n",
       "    </tr>\n",
       "    <tr>\n",
       "      <th>404602</th>\n",
       "      <td>404603</td>\n",
       "      <td>251</td>\n",
       "      <td>a</td>\n",
       "      <td>True</td>\n",
       "    </tr>\n",
       "    <tr>\n",
       "      <th>404767</th>\n",
       "      <td>404768</td>\n",
       "      <td>231</td>\n",
       "      <td>a</td>\n",
       "      <td>True</td>\n",
       "    </tr>\n",
       "  </tbody>\n",
       "</table>\n",
       "<p>1928 rows × 4 columns</p>\n",
       "</div>"
      ],
      "text/plain": [
       "        user_id  revenue testgroup  is_active\n",
       "72           73      351         a       True\n",
       "341         342      290         a       True\n",
       "385         386      250         a       True\n",
       "416         417    37324         a       True\n",
       "712         713      255         a       True\n",
       "...         ...      ...       ...        ...\n",
       "404304   404305      360         a       True\n",
       "404315   404316      262         a       True\n",
       "404543   404544      369         a       True\n",
       "404602   404603      251         a       True\n",
       "404767   404768      231         a       True\n",
       "\n",
       "[1928 rows x 4 columns]"
      ]
     },
     "execution_count": 19,
     "metadata": {},
     "output_type": "execute_result"
    }
   ],
   "source": [
    "# Только платящие пользователи в группе А\n",
    "group_a.query('revenue>0')"
   ]
  },
  {
   "cell_type": "code",
   "execution_count": 20,
   "id": "a7da9f16-3ba1-4faf-a09e-251e27cd576a",
   "metadata": {},
   "outputs": [
    {
     "data": {
      "text/html": [
       "<div>\n",
       "<style scoped>\n",
       "    .dataframe tbody tr th:only-of-type {\n",
       "        vertical-align: middle;\n",
       "    }\n",
       "\n",
       "    .dataframe tbody tr th {\n",
       "        vertical-align: top;\n",
       "    }\n",
       "\n",
       "    .dataframe thead th {\n",
       "        text-align: right;\n",
       "    }\n",
       "</style>\n",
       "<table border=\"1\" class=\"dataframe\">\n",
       "  <thead>\n",
       "    <tr style=\"text-align: right;\">\n",
       "      <th></th>\n",
       "      <th>user_id</th>\n",
       "      <th>revenue</th>\n",
       "      <th>testgroup</th>\n",
       "      <th>is_active</th>\n",
       "    </tr>\n",
       "  </thead>\n",
       "  <tbody>\n",
       "    <tr>\n",
       "      <th>0</th>\n",
       "      <td>1</td>\n",
       "      <td>0</td>\n",
       "      <td>b</td>\n",
       "      <td>False</td>\n",
       "    </tr>\n",
       "    <tr>\n",
       "      <th>3</th>\n",
       "      <td>4</td>\n",
       "      <td>0</td>\n",
       "      <td>b</td>\n",
       "      <td>False</td>\n",
       "    </tr>\n",
       "    <tr>\n",
       "      <th>4</th>\n",
       "      <td>5</td>\n",
       "      <td>0</td>\n",
       "      <td>b</td>\n",
       "      <td>False</td>\n",
       "    </tr>\n",
       "    <tr>\n",
       "      <th>5</th>\n",
       "      <td>6</td>\n",
       "      <td>0</td>\n",
       "      <td>b</td>\n",
       "      <td>False</td>\n",
       "    </tr>\n",
       "    <tr>\n",
       "      <th>6</th>\n",
       "      <td>7</td>\n",
       "      <td>0</td>\n",
       "      <td>b</td>\n",
       "      <td>False</td>\n",
       "    </tr>\n",
       "    <tr>\n",
       "      <th>...</th>\n",
       "      <td>...</td>\n",
       "      <td>...</td>\n",
       "      <td>...</td>\n",
       "      <td>...</td>\n",
       "    </tr>\n",
       "    <tr>\n",
       "      <th>404761</th>\n",
       "      <td>404762</td>\n",
       "      <td>0</td>\n",
       "      <td>b</td>\n",
       "      <td>False</td>\n",
       "    </tr>\n",
       "    <tr>\n",
       "      <th>404763</th>\n",
       "      <td>404764</td>\n",
       "      <td>0</td>\n",
       "      <td>b</td>\n",
       "      <td>False</td>\n",
       "    </tr>\n",
       "    <tr>\n",
       "      <th>404764</th>\n",
       "      <td>404765</td>\n",
       "      <td>0</td>\n",
       "      <td>b</td>\n",
       "      <td>False</td>\n",
       "    </tr>\n",
       "    <tr>\n",
       "      <th>404766</th>\n",
       "      <td>404767</td>\n",
       "      <td>0</td>\n",
       "      <td>b</td>\n",
       "      <td>False</td>\n",
       "    </tr>\n",
       "    <tr>\n",
       "      <th>404769</th>\n",
       "      <td>404770</td>\n",
       "      <td>0</td>\n",
       "      <td>b</td>\n",
       "      <td>False</td>\n",
       "    </tr>\n",
       "  </tbody>\n",
       "</table>\n",
       "<p>202667 rows × 4 columns</p>\n",
       "</div>"
      ],
      "text/plain": [
       "        user_id  revenue testgroup  is_active\n",
       "0             1        0         b      False\n",
       "3             4        0         b      False\n",
       "4             5        0         b      False\n",
       "5             6        0         b      False\n",
       "6             7        0         b      False\n",
       "...         ...      ...       ...        ...\n",
       "404761   404762        0         b      False\n",
       "404763   404764        0         b      False\n",
       "404764   404765        0         b      False\n",
       "404766   404767        0         b      False\n",
       "404769   404770        0         b      False\n",
       "\n",
       "[202667 rows x 4 columns]"
      ]
     },
     "execution_count": 20,
     "metadata": {},
     "output_type": "execute_result"
    }
   ],
   "source": [
    "group_b=A_B.query('testgroup==\"b\"')\n",
    "group_b"
   ]
  },
  {
   "cell_type": "code",
   "execution_count": 21,
   "id": "06c885aa-247e-492e-a954-719639bf62b4",
   "metadata": {},
   "outputs": [
    {
     "data": {
      "text/html": [
       "<div>\n",
       "<style scoped>\n",
       "    .dataframe tbody tr th:only-of-type {\n",
       "        vertical-align: middle;\n",
       "    }\n",
       "\n",
       "    .dataframe tbody tr th {\n",
       "        vertical-align: top;\n",
       "    }\n",
       "\n",
       "    .dataframe thead th {\n",
       "        text-align: right;\n",
       "    }\n",
       "</style>\n",
       "<table border=\"1\" class=\"dataframe\">\n",
       "  <thead>\n",
       "    <tr style=\"text-align: right;\">\n",
       "      <th></th>\n",
       "      <th>user_id</th>\n",
       "      <th>revenue</th>\n",
       "      <th>testgroup</th>\n",
       "      <th>is_active</th>\n",
       "    </tr>\n",
       "  </thead>\n",
       "  <tbody>\n",
       "    <tr>\n",
       "      <th>160</th>\n",
       "      <td>161</td>\n",
       "      <td>3797</td>\n",
       "      <td>b</td>\n",
       "      <td>True</td>\n",
       "    </tr>\n",
       "    <tr>\n",
       "      <th>377</th>\n",
       "      <td>378</td>\n",
       "      <td>3768</td>\n",
       "      <td>b</td>\n",
       "      <td>True</td>\n",
       "    </tr>\n",
       "    <tr>\n",
       "      <th>386</th>\n",
       "      <td>387</td>\n",
       "      <td>3527</td>\n",
       "      <td>b</td>\n",
       "      <td>True</td>\n",
       "    </tr>\n",
       "    <tr>\n",
       "      <th>551</th>\n",
       "      <td>552</td>\n",
       "      <td>2038</td>\n",
       "      <td>b</td>\n",
       "      <td>True</td>\n",
       "    </tr>\n",
       "    <tr>\n",
       "      <th>913</th>\n",
       "      <td>914</td>\n",
       "      <td>3902</td>\n",
       "      <td>b</td>\n",
       "      <td>True</td>\n",
       "    </tr>\n",
       "    <tr>\n",
       "      <th>...</th>\n",
       "      <td>...</td>\n",
       "      <td>...</td>\n",
       "      <td>...</td>\n",
       "      <td>...</td>\n",
       "    </tr>\n",
       "    <tr>\n",
       "      <th>403843</th>\n",
       "      <td>403844</td>\n",
       "      <td>3383</td>\n",
       "      <td>b</td>\n",
       "      <td>True</td>\n",
       "    </tr>\n",
       "    <tr>\n",
       "      <th>403994</th>\n",
       "      <td>403995</td>\n",
       "      <td>2793</td>\n",
       "      <td>b</td>\n",
       "      <td>True</td>\n",
       "    </tr>\n",
       "    <tr>\n",
       "      <th>404161</th>\n",
       "      <td>404162</td>\n",
       "      <td>2316</td>\n",
       "      <td>b</td>\n",
       "      <td>True</td>\n",
       "    </tr>\n",
       "    <tr>\n",
       "      <th>404193</th>\n",
       "      <td>404194</td>\n",
       "      <td>2998</td>\n",
       "      <td>b</td>\n",
       "      <td>True</td>\n",
       "    </tr>\n",
       "    <tr>\n",
       "      <th>404525</th>\n",
       "      <td>404526</td>\n",
       "      <td>3120</td>\n",
       "      <td>b</td>\n",
       "      <td>True</td>\n",
       "    </tr>\n",
       "  </tbody>\n",
       "</table>\n",
       "<p>1805 rows × 4 columns</p>\n",
       "</div>"
      ],
      "text/plain": [
       "        user_id  revenue testgroup  is_active\n",
       "160         161     3797         b       True\n",
       "377         378     3768         b       True\n",
       "386         387     3527         b       True\n",
       "551         552     2038         b       True\n",
       "913         914     3902         b       True\n",
       "...         ...      ...       ...        ...\n",
       "403843   403844     3383         b       True\n",
       "403994   403995     2793         b       True\n",
       "404161   404162     2316         b       True\n",
       "404193   404194     2998         b       True\n",
       "404525   404526     3120         b       True\n",
       "\n",
       "[1805 rows x 4 columns]"
      ]
     },
     "execution_count": 21,
     "metadata": {},
     "output_type": "execute_result"
    }
   ],
   "source": [
    "# Только платящие пользователи в группе В\n",
    "group_b.query('revenue>0')"
   ]
  },
  {
   "cell_type": "code",
   "execution_count": 22,
   "id": "460b64e5-bafd-42b9-a56a-1998d0070af2",
   "metadata": {},
   "outputs": [
    {
     "name": "stdout",
     "output_type": "stream",
     "text": [
      "1928 платящих пользователей из 202103 в группе А\n",
      "1805 платящих пользователей из 202667 в группе B\n"
     ]
    }
   ],
   "source": [
    "print(f'{group_a.query('revenue>0').shape[0]} платящих пользователей из {group_a.shape[0]} в группе А')\n",
    "print(f'{group_b.query('revenue>0').shape[0]} платящих пользователей из {group_b.shape[0]} в группе B')"
   ]
  },
  {
   "cell_type": "markdown",
   "id": "19257d7f-cce4-45f3-a834-1c3636a6715e",
   "metadata": {},
   "source": [
    "Полученные результаты соответствуют изначально заявленным. В контрольной группе (группа А) 1928 игроков из 202103 оказались платящими, а в тестовой (группа В) – 1805 из 202667."
   ]
  },
  {
   "cell_type": "code",
   "execution_count": 23,
   "id": "e59708ba-4277-441e-ba3e-0e3cbed8e8c9",
   "metadata": {},
   "outputs": [
    {
     "data": {
      "text/plain": [
       "count    202103.000000\n",
       "mean         25.413720\n",
       "std         920.768137\n",
       "min           0.000000\n",
       "25%           0.000000\n",
       "50%           0.000000\n",
       "75%           0.000000\n",
       "max       37433.000000\n",
       "Name: revenue, dtype: float64"
      ]
     },
     "execution_count": 23,
     "metadata": {},
     "output_type": "execute_result"
    }
   ],
   "source": [
    "group_a.revenue.describe()"
   ]
  },
  {
   "cell_type": "code",
   "execution_count": 24,
   "id": "45ac29f5-7932-4339-bd68-19a294e6bd4e",
   "metadata": {},
   "outputs": [
    {
     "data": {
      "text/plain": [
       "count    202667.000000\n",
       "mean         26.751287\n",
       "std         287.324162\n",
       "min           0.000000\n",
       "25%           0.000000\n",
       "50%           0.000000\n",
       "75%           0.000000\n",
       "max        4000.000000\n",
       "Name: revenue, dtype: float64"
      ]
     },
     "execution_count": 24,
     "metadata": {},
     "output_type": "execute_result"
    }
   ],
   "source": [
    "group_b.revenue.describe()"
   ]
  },
  {
   "cell_type": "code",
   "execution_count": 25,
   "id": "3e90811b-5092-4c3b-af91-4271087d312f",
   "metadata": {},
   "outputs": [
    {
     "data": {
      "text/plain": [
       "5.263168870987797"
      ]
     },
     "execution_count": 25,
     "metadata": {},
     "output_type": "execute_result"
    }
   ],
   "source": [
    "(26.751287-25.413720)*100/25.413720"
   ]
  },
  {
   "cell_type": "code",
   "execution_count": 26,
   "id": "1d99f05a-213b-4285-ae76-6a478e920e61",
   "metadata": {},
   "outputs": [
    {
     "data": {
      "text/plain": [
       "3.204631767097958"
      ]
     },
     "execution_count": 26,
     "metadata": {},
     "output_type": "execute_result"
    }
   ],
   "source": [
    "920.768137/287.324162"
   ]
  },
  {
   "cell_type": "markdown",
   "id": "91e44e70-a2dd-4145-bb00-1bccc2098fd7",
   "metadata": {},
   "source": [
    "Разница в среднем доходе (mean): Группа B показывает на 5.3 более высокое значение, однако разница небольшая (25.41 vs 26.75)\n",
    "\n",
    "Разница в стандартном отклонении (разброс данных) (std): Группа A имеет в 3.2 раза большее стандартное отклонение (920.77 vs 287.32), это указывает на наличие экстремальных выбросов в группе A (подтверждается максимумом 37433)\n",
    "\n",
    "Медиана (распределение платежей) (50%): 0 в обеих группах, что большинство пользователей не платит (типично для F2P-игр)\n",
    "\n",
    "Максимальные платежи (max): \n",
    "- Группа A: 37433 (аномально высокий)\n",
    "- Группа B: 4000 (более реалистично для игровых покупок)"
   ]
  },
  {
   "cell_type": "markdown",
   "id": "29aecd10-2d93-41f0-82a6-c0dcb4664878",
   "metadata": {},
   "source": [
    "Определим, какую часть составляют выбросы от всех платежей в группе А. Согласно первому графику нижнюю границу для определения % выбросов возьмем 35000. % высчитываться будет только для группы А, так как для группы В выбросы отсутствуют."
   ]
  },
  {
   "cell_type": "code",
   "execution_count": 27,
   "id": "8a5c23d1-c5a8-47e4-951c-f1a565e9aa4b",
   "metadata": {},
   "outputs": [
    {
     "data": {
      "text/html": [
       "<div>\n",
       "<style scoped>\n",
       "    .dataframe tbody tr th:only-of-type {\n",
       "        vertical-align: middle;\n",
       "    }\n",
       "\n",
       "    .dataframe tbody tr th {\n",
       "        vertical-align: top;\n",
       "    }\n",
       "\n",
       "    .dataframe thead th {\n",
       "        text-align: right;\n",
       "    }\n",
       "</style>\n",
       "<table border=\"1\" class=\"dataframe\">\n",
       "  <thead>\n",
       "    <tr style=\"text-align: right;\">\n",
       "      <th></th>\n",
       "      <th>user_id</th>\n",
       "      <th>revenue</th>\n",
       "      <th>testgroup</th>\n",
       "      <th>is_active</th>\n",
       "    </tr>\n",
       "  </thead>\n",
       "  <tbody>\n",
       "    <tr>\n",
       "      <th>416</th>\n",
       "      <td>417</td>\n",
       "      <td>37324</td>\n",
       "      <td>a</td>\n",
       "      <td>True</td>\n",
       "    </tr>\n",
       "    <tr>\n",
       "      <th>4428</th>\n",
       "      <td>4429</td>\n",
       "      <td>37304</td>\n",
       "      <td>a</td>\n",
       "      <td>True</td>\n",
       "    </tr>\n",
       "    <tr>\n",
       "      <th>5777</th>\n",
       "      <td>5778</td>\n",
       "      <td>37315</td>\n",
       "      <td>a</td>\n",
       "      <td>True</td>\n",
       "    </tr>\n",
       "    <tr>\n",
       "      <th>8065</th>\n",
       "      <td>8066</td>\n",
       "      <td>37307</td>\n",
       "      <td>a</td>\n",
       "      <td>True</td>\n",
       "    </tr>\n",
       "    <tr>\n",
       "      <th>8743</th>\n",
       "      <td>8744</td>\n",
       "      <td>37334</td>\n",
       "      <td>a</td>\n",
       "      <td>True</td>\n",
       "    </tr>\n",
       "    <tr>\n",
       "      <th>...</th>\n",
       "      <td>...</td>\n",
       "      <td>...</td>\n",
       "      <td>...</td>\n",
       "      <td>...</td>\n",
       "    </tr>\n",
       "    <tr>\n",
       "      <th>360696</th>\n",
       "      <td>360697</td>\n",
       "      <td>37347</td>\n",
       "      <td>a</td>\n",
       "      <td>True</td>\n",
       "    </tr>\n",
       "    <tr>\n",
       "      <th>378668</th>\n",
       "      <td>378669</td>\n",
       "      <td>37297</td>\n",
       "      <td>a</td>\n",
       "      <td>True</td>\n",
       "    </tr>\n",
       "    <tr>\n",
       "      <th>389341</th>\n",
       "      <td>389342</td>\n",
       "      <td>37298</td>\n",
       "      <td>a</td>\n",
       "      <td>True</td>\n",
       "    </tr>\n",
       "    <tr>\n",
       "      <th>394580</th>\n",
       "      <td>394581</td>\n",
       "      <td>37302</td>\n",
       "      <td>a</td>\n",
       "      <td>True</td>\n",
       "    </tr>\n",
       "    <tr>\n",
       "      <th>399294</th>\n",
       "      <td>399295</td>\n",
       "      <td>37321</td>\n",
       "      <td>a</td>\n",
       "      <td>True</td>\n",
       "    </tr>\n",
       "  </tbody>\n",
       "</table>\n",
       "<p>123 rows × 4 columns</p>\n",
       "</div>"
      ],
      "text/plain": [
       "        user_id  revenue testgroup  is_active\n",
       "416         417    37324         a       True\n",
       "4428       4429    37304         a       True\n",
       "5777       5778    37315         a       True\n",
       "8065       8066    37307         a       True\n",
       "8743       8744    37334         a       True\n",
       "...         ...      ...       ...        ...\n",
       "360696   360697    37347         a       True\n",
       "378668   378669    37297         a       True\n",
       "389341   389342    37298         a       True\n",
       "394580   394581    37302         a       True\n",
       "399294   399295    37321         a       True\n",
       "\n",
       "[123 rows x 4 columns]"
      ]
     },
     "execution_count": 27,
     "metadata": {},
     "output_type": "execute_result"
    }
   ],
   "source": [
    "blowout=group_a.query('revenue>35000')\n",
    "blowout"
   ]
  },
  {
   "cell_type": "code",
   "execution_count": 28,
   "id": "9f6b24ba-2514-42e9-b51c-5765085e35f7",
   "metadata": {},
   "outputs": [
    {
     "data": {
      "text/plain": [
       "1805"
      ]
     },
     "execution_count": 28,
     "metadata": {},
     "output_type": "execute_result"
    }
   ],
   "source": [
    "# Платящие пользователи в группе А без выбросов\n",
    "group_a.query('revenue>0 & revenue<=35000').shape[0]"
   ]
  },
  {
   "cell_type": "code",
   "execution_count": 29,
   "id": "6b3befe7-5785-435a-b22c-cb51ecb8a40b",
   "metadata": {},
   "outputs": [
    {
     "data": {
      "text/plain": [
       "6.81"
      ]
     },
     "execution_count": 29,
     "metadata": {},
     "output_type": "execute_result"
    }
   ],
   "source": [
    "round(((blowout).shape[0]*100/group_a.query('revenue>0 & revenue<=35000').shape[0]),2)"
   ]
  },
  {
   "cell_type": "code",
   "execution_count": 30,
   "id": "edf1ffda-07a2-4776-b804-39c44dc7196a",
   "metadata": {},
   "outputs": [
    {
     "data": {
      "text/plain": [
       "0.06"
      ]
     },
     "execution_count": 30,
     "metadata": {},
     "output_type": "execute_result"
    }
   ],
   "source": [
    "round(((blowout).shape[0]*100/group_a.shape[0]),2)"
   ]
  },
  {
   "cell_type": "markdown",
   "id": "7fe507ec-9e85-46f4-b226-7ba4ca88fae1",
   "metadata": {},
   "source": [
    "В группе А на 1805 платежа выбросы составляют 123 или 6,81% от всех платящих или 0,06 от всего числа в группе. Посмотрим на распределение этих выбросов"
   ]
  },
  {
   "cell_type": "code",
   "execution_count": 31,
   "id": "04fcd478-efb8-483d-aaa8-69ed93b3dfa0",
   "metadata": {},
   "outputs": [
    {
     "data": {
      "image/png": "[encoded data removed]",
      "text/plain": [
       "<Figure size 1200x600 with 1 Axes>"
      ]
     },
     "metadata": {},
     "output_type": "display_data"
    }
   ],
   "source": [
    "plt.figure(figsize=(12, 6))\n",
    "sns.histplot(\n",
    "    data=blowout,\n",
    "    x='revenue',\n",
    "    hue='testgroup',\n",
    "    kde=True)\n",
    "\n",
    "plt.title('Распределение платежей более 35000')\n",
    "plt.xlabel('Сумма платежа')\n",
    "plt.ylabel('Количество пользователей')\n",
    "plt.show()"
   ]
  },
  {
   "cell_type": "markdown",
   "id": "da031628-aff0-4c56-b931-f06f390ea3de",
   "metadata": {},
   "source": [
    "А как распределяются платежи без учета выбросов для обеих групп?"
   ]
  },
  {
   "cell_type": "code",
   "execution_count": 32,
   "id": "ae7fb77d-c673-49e4-ac97-8d51fa176064",
   "metadata": {},
   "outputs": [
    {
     "data": {
      "text/html": [
       "<div>\n",
       "<style scoped>\n",
       "    .dataframe tbody tr th:only-of-type {\n",
       "        vertical-align: middle;\n",
       "    }\n",
       "\n",
       "    .dataframe tbody tr th {\n",
       "        vertical-align: top;\n",
       "    }\n",
       "\n",
       "    .dataframe thead th {\n",
       "        text-align: right;\n",
       "    }\n",
       "</style>\n",
       "<table border=\"1\" class=\"dataframe\">\n",
       "  <thead>\n",
       "    <tr style=\"text-align: right;\">\n",
       "      <th></th>\n",
       "      <th>user_id</th>\n",
       "      <th>revenue</th>\n",
       "      <th>testgroup</th>\n",
       "      <th>is_active</th>\n",
       "    </tr>\n",
       "  </thead>\n",
       "  <tbody>\n",
       "    <tr>\n",
       "      <th>72</th>\n",
       "      <td>73</td>\n",
       "      <td>351</td>\n",
       "      <td>a</td>\n",
       "      <td>True</td>\n",
       "    </tr>\n",
       "    <tr>\n",
       "      <th>341</th>\n",
       "      <td>342</td>\n",
       "      <td>290</td>\n",
       "      <td>a</td>\n",
       "      <td>True</td>\n",
       "    </tr>\n",
       "    <tr>\n",
       "      <th>385</th>\n",
       "      <td>386</td>\n",
       "      <td>250</td>\n",
       "      <td>a</td>\n",
       "      <td>True</td>\n",
       "    </tr>\n",
       "    <tr>\n",
       "      <th>712</th>\n",
       "      <td>713</td>\n",
       "      <td>255</td>\n",
       "      <td>a</td>\n",
       "      <td>True</td>\n",
       "    </tr>\n",
       "    <tr>\n",
       "      <th>1346</th>\n",
       "      <td>1347</td>\n",
       "      <td>230</td>\n",
       "      <td>a</td>\n",
       "      <td>True</td>\n",
       "    </tr>\n",
       "    <tr>\n",
       "      <th>...</th>\n",
       "      <td>...</td>\n",
       "      <td>...</td>\n",
       "      <td>...</td>\n",
       "      <td>...</td>\n",
       "    </tr>\n",
       "    <tr>\n",
       "      <th>404304</th>\n",
       "      <td>404305</td>\n",
       "      <td>360</td>\n",
       "      <td>a</td>\n",
       "      <td>True</td>\n",
       "    </tr>\n",
       "    <tr>\n",
       "      <th>404315</th>\n",
       "      <td>404316</td>\n",
       "      <td>262</td>\n",
       "      <td>a</td>\n",
       "      <td>True</td>\n",
       "    </tr>\n",
       "    <tr>\n",
       "      <th>404543</th>\n",
       "      <td>404544</td>\n",
       "      <td>369</td>\n",
       "      <td>a</td>\n",
       "      <td>True</td>\n",
       "    </tr>\n",
       "    <tr>\n",
       "      <th>404602</th>\n",
       "      <td>404603</td>\n",
       "      <td>251</td>\n",
       "      <td>a</td>\n",
       "      <td>True</td>\n",
       "    </tr>\n",
       "    <tr>\n",
       "      <th>404767</th>\n",
       "      <td>404768</td>\n",
       "      <td>231</td>\n",
       "      <td>a</td>\n",
       "      <td>True</td>\n",
       "    </tr>\n",
       "  </tbody>\n",
       "</table>\n",
       "<p>1805 rows × 4 columns</p>\n",
       "</div>"
      ],
      "text/plain": [
       "        user_id  revenue testgroup  is_active\n",
       "72           73      351         a       True\n",
       "341         342      290         a       True\n",
       "385         386      250         a       True\n",
       "712         713      255         a       True\n",
       "1346       1347      230         a       True\n",
       "...         ...      ...       ...        ...\n",
       "404304   404305      360         a       True\n",
       "404315   404316      262         a       True\n",
       "404543   404544      369         a       True\n",
       "404602   404603      251         a       True\n",
       "404767   404768      231         a       True\n",
       "\n",
       "[1805 rows x 4 columns]"
      ]
     },
     "execution_count": 32,
     "metadata": {},
     "output_type": "execute_result"
    }
   ],
   "source": [
    "no_blowout=group_a.query('revenue>0 & revenue<=35000')\n",
    "no_blowout"
   ]
  },
  {
   "cell_type": "code",
   "execution_count": 33,
   "id": "71950422-dc4e-4d5e-b169-76a59a445540",
   "metadata": {},
   "outputs": [
    {
     "data": {
      "image/png": "[encoded data removed]",
      "text/plain": [
       "<Figure size 2000x800 with 2 Axes>"
      ]
     },
     "metadata": {},
     "output_type": "display_data"
    }
   ],
   "source": [
    "# Создаем фигуру с двумя subplots\n",
    "fig, (ax1, ax2) = plt.subplots(1, 2, figsize=(20, 8))\n",
    "\n",
    "# Первый график (группа A) \n",
    "sns.histplot(\n",
    "    data=no_blowout,\n",
    "    x='revenue',\n",
    "    hue='testgroup',\n",
    "    kde=True,\n",
    "    ax=ax1  \n",
    ")\n",
    "ax1.set_title('Распределение не экстремальных платежей в группе A')\n",
    "ax1.set_xlabel('Сумма платежа')\n",
    "ax1.set_ylabel('Количество пользователей')\n",
    "\n",
    "# Второй график (группа B)\n",
    "sns.histplot(\n",
    "    data=group_b.query('revenue>0'),\n",
    "    x='revenue',\n",
    "    hue='testgroup',\n",
    "    kde=True,\n",
    "    ax=ax2  \n",
    ")\n",
    "ax2.set_title('Распределение платежей в группе B')\n",
    "ax2.set_ylabel('') \n",
    "ax2.set_xlabel('Сумма платежа')\n",
    "\n",
    "\n",
    "plt.suptitle('Сравнение распределения платежей по группам', y=1.02, fontsize=14)\n",
    "plt.tight_layout() \n",
    "plt.show()"
   ]
  },
  {
   "cell_type": "markdown",
   "id": "704474d6-b3e6-434e-afeb-58ce73862e33",
   "metadata": {},
   "source": [
    "Проанализируем показатели описательной статистики для платежей, которые больше нуля и не содержат выбросов."
   ]
  },
  {
   "cell_type": "code",
   "execution_count": 34,
   "id": "0b2625d4-7d8f-411a-ba69-afd13582d9a7",
   "metadata": {},
   "outputs": [],
   "source": [
    "A_B_new=A_B.query('revenue>0 & revenue<=35000')"
   ]
  },
  {
   "cell_type": "code",
   "execution_count": 35,
   "id": "2d19df92-04ec-4750-98f8-1677666797ae",
   "metadata": {},
   "outputs": [
    {
     "data": {
      "text/html": [
       "<div>\n",
       "<style scoped>\n",
       "    .dataframe tbody tr th:only-of-type {\n",
       "        vertical-align: middle;\n",
       "    }\n",
       "\n",
       "    .dataframe tbody tr th {\n",
       "        vertical-align: top;\n",
       "    }\n",
       "\n",
       "    .dataframe thead th {\n",
       "        text-align: right;\n",
       "    }\n",
       "</style>\n",
       "<table border=\"1\" class=\"dataframe\">\n",
       "  <thead>\n",
       "    <tr style=\"text-align: right;\">\n",
       "      <th></th>\n",
       "      <th>count</th>\n",
       "      <th>mean</th>\n",
       "      <th>std</th>\n",
       "      <th>min</th>\n",
       "      <th>25%</th>\n",
       "      <th>50%</th>\n",
       "      <th>75%</th>\n",
       "      <th>max</th>\n",
       "    </tr>\n",
       "    <tr>\n",
       "      <th>testgroup</th>\n",
       "      <th></th>\n",
       "      <th></th>\n",
       "      <th></th>\n",
       "      <th></th>\n",
       "      <th></th>\n",
       "      <th></th>\n",
       "      <th></th>\n",
       "      <th></th>\n",
       "    </tr>\n",
       "  </thead>\n",
       "  <tbody>\n",
       "    <tr>\n",
       "      <th>a</th>\n",
       "      <td>1805.0</td>\n",
       "      <td>302.458172</td>\n",
       "      <td>57.914246</td>\n",
       "      <td>200.0</td>\n",
       "      <td>254.0</td>\n",
       "      <td>305.0</td>\n",
       "      <td>352.0</td>\n",
       "      <td>400.0</td>\n",
       "    </tr>\n",
       "    <tr>\n",
       "      <th>b</th>\n",
       "      <td>1805.0</td>\n",
       "      <td>3003.658172</td>\n",
       "      <td>572.619709</td>\n",
       "      <td>2000.0</td>\n",
       "      <td>2513.0</td>\n",
       "      <td>3022.0</td>\n",
       "      <td>3478.0</td>\n",
       "      <td>4000.0</td>\n",
       "    </tr>\n",
       "  </tbody>\n",
       "</table>\n",
       "</div>"
      ],
      "text/plain": [
       "            count         mean         std     min     25%     50%     75%  \\\n",
       "testgroup                                                                    \n",
       "a          1805.0   302.458172   57.914246   200.0   254.0   305.0   352.0   \n",
       "b          1805.0  3003.658172  572.619709  2000.0  2513.0  3022.0  3478.0   \n",
       "\n",
       "              max  \n",
       "testgroup          \n",
       "a           400.0  \n",
       "b          4000.0  "
      ]
     },
     "execution_count": 35,
     "metadata": {},
     "output_type": "execute_result"
    }
   ],
   "source": [
    "A_B_new.groupby('testgroup').revenue.describe()"
   ]
  },
  {
   "cell_type": "markdown",
   "id": "c2c29665-e5d8-4d16-a533-c1cbea32c803",
   "metadata": {},
   "source": [
    "Статистика по группам, включающая только тех пользователей, которые вносят оплату, без учёта аномальных значений:\n",
    "\n",
    "1. Существенная разница в средних платежах:\n",
    "- Группа A: Средний платёж 302.46 (медиана 305)\n",
    "- Группа B: Средний платёж 3003.66 (медиана 3022)\n",
    "\n",
    "Разница: Пользователи группы B платят почти в 10 раз больше \n",
    "\n",
    "2. Распределение платежей:\n",
    "- Обе группы демонстрируют нормальное распределение с близкими значениями mean/median (малая асимметрия)\n",
    "- Стандартное отклонение:\n",
    "  - Группа A: 57.91 (узкий разброс)\n",
    "  - Группа B: 572.62 (широкий разброс, но пропорционален среднему)\n",
    "\n",
    "3. Квартальные значения:\n",
    "- Группа A:\n",
    "   - 25% пользователей платят <= 254\n",
    "   - 75% пользователей платят <= 352\n",
    "\n",
    "- Группа B:\n",
    "   - 25% пользователей платят <= 2513\n",
    "   - 75% пользователей платят <= 3478\n",
    "\n",
    "Принимая во внимание, что в исходных данных в группе А есть аномальные значения у 123 человек, что составляет 0.06%, можно сделать вывод о наличии двух подгрупп в этой группе: более и менее платёжеспособных. Без учёта аномальных значений максимальное значение платежа составляет 400. Платежи группы В более стабильны и находятся в одном диапазоне.\n",
    "\n",
    "Эти данные свидетельсвуют о некорректном распределении пользователей между группам А и В. Возможно, аномальные пользователи должны были быть изначально в группе В, но из-за бага в алгоритме распределения попали в группу А? На данном этапе разница в средних чеках вызвана не эффективностью теста, а артефактами в формировании групп. \n",
    "\n",
    "Необходимо устранить причину появления аномальных значений в группе A: \n",
    "- исключить влияние сторонних факторов (время регистрации, гео и т.д.);\n",
    "- обеспечить идентичные условия для обеих групп.\n"
   ]
  },
  {
   "cell_type": "markdown",
   "id": "75ffc008-7254-47c1-9a64-5396f9f80ec8",
   "metadata": {},
   "source": [
    "Предположим, что сложившаяся ситуация была допущена намеренно, оценим результаты проведённого теста с этими данными"
   ]
  },
  {
   "cell_type": "markdown",
   "id": "20068726-3079-465f-aa58-f7ccd468aaba",
   "metadata": {},
   "source": [
    "# Определение метрик и проверка статистической значимости"
   ]
  },
  {
   "cell_type": "markdown",
   "id": "c4b71919-6b70-4d20-878f-b751faa09888",
   "metadata": {},
   "source": [
    "Проверим достоверность сведений, данных изначально. ARPU в тестовой группе выше на 5%, чем в контрольной. Проведём расчёт метрики ARPU по каждой из групп.\n"
   ]
  },
  {
   "cell_type": "markdown",
   "id": "783bcaf6-0067-4d2b-b936-b693824013e2",
   "metadata": {},
   "source": [
    "# ARPU "
   ]
  },
  {
   "cell_type": "markdown",
   "id": "63f137d7-9e8c-4e40-852f-c2dfbb3487ff",
   "metadata": {},
   "source": [
    "Группа А:"
   ]
  },
  {
   "cell_type": "code",
   "execution_count": 46,
   "id": "25634909-2f26-4289-beac-a49fcd7f5186",
   "metadata": {},
   "outputs": [
    {
     "data": {
      "text/plain": [
       "5136189"
      ]
     },
     "execution_count": 46,
     "metadata": {},
     "output_type": "execute_result"
    }
   ],
   "source": [
    "# Суммарная выручка в группе А\n",
    "total_revenue_a=int(paying_user_a.revenue.sum())\n",
    "total_revenue_a"
   ]
  },
  {
   "cell_type": "code",
   "execution_count": 47,
   "id": "1cee8b37-0ad4-49ae-906d-6cd82173fd5b",
   "metadata": {},
   "outputs": [
    {
     "data": {
      "text/plain": [
       "202103"
      ]
     },
     "execution_count": 47,
     "metadata": {},
     "output_type": "execute_result"
    }
   ],
   "source": [
    "# Всего пользователей в группе А\n",
    "total_users_a=group_a.shape[0]\n",
    "total_users_a"
   ]
  },
  {
   "cell_type": "code",
   "execution_count": 50,
   "id": "928a4f65-f0d2-4194-bc0a-fe80e669272c",
   "metadata": {},
   "outputs": [
    {
     "data": {
      "text/plain": [
       "1928"
      ]
     },
     "execution_count": 50,
     "metadata": {},
     "output_type": "execute_result"
    }
   ],
   "source": [
    "# Только платящие пользователи в группе А\n",
    "paying_user_a=group_a.query('revenue > 0').shape[0]\n",
    "paying_user_a"
   ]
  },
  {
   "cell_type": "code",
   "execution_count": 51,
   "id": "72101ea6-80f9-4de2-86ec-cbf4109f69a6",
   "metadata": {},
   "outputs": [
    {
     "data": {
      "text/plain": [
       "25.41"
      ]
     },
     "execution_count": 51,
     "metadata": {},
     "output_type": "execute_result"
    }
   ],
   "source": [
    "# ARPU (средняя выручка на пользователя) в группе А\n",
    "arpu_a=round(total_revenue_a/total_users_a,2)\n",
    "arpu_a"
   ]
  },
  {
   "cell_type": "code",
   "execution_count": 52,
   "id": "e87ec0ab-7cee-4d4b-9cb6-ad8bb7396dab",
   "metadata": {},
   "outputs": [
    {
     "data": {
      "text/plain": [
       "5421603"
      ]
     },
     "execution_count": 52,
     "metadata": {},
     "output_type": "execute_result"
    }
   ],
   "source": [
    "# Суммарная выручка в группе B\n",
    "total_revenue_b=int(paying_user_b.revenue.sum())\n",
    "total_revenue_b"
   ]
  },
  {
   "cell_type": "code",
   "execution_count": 53,
   "id": "cc029bbe-a33b-44b7-806c-8098ba3c2a1c",
   "metadata": {},
   "outputs": [
    {
     "data": {
      "text/plain": [
       "202667"
      ]
     },
     "execution_count": 53,
     "metadata": {},
     "output_type": "execute_result"
    }
   ],
   "source": [
    "# Всего пользователей в группе B\n",
    "total_users_b=group_b.shape[0]\n",
    "total_users_b"
   ]
  },
  {
   "cell_type": "code",
   "execution_count": 57,
   "id": "cc547df6-2c25-42a3-abd7-0ef5ab488897",
   "metadata": {},
   "outputs": [
    {
     "data": {
      "text/plain": [
       "1805"
      ]
     },
     "execution_count": 57,
     "metadata": {},
     "output_type": "execute_result"
    }
   ],
   "source": [
    "# Только платящие пользователи в группе B\n",
    "paying_user_b=group_b.query('revenue > 0').shape[0]\n",
    "paying_user_b"
   ]
  },
  {
   "cell_type": "code",
   "execution_count": 58,
   "id": "04df4a34-f28f-4378-9441-a4cda8aca696",
   "metadata": {},
   "outputs": [
    {
     "data": {
      "text/plain": [
       "26.75"
      ]
     },
     "execution_count": 58,
     "metadata": {},
     "output_type": "execute_result"
    }
   ],
   "source": [
    "# ARPU (средняя выручка на пользователя) в группе В\n",
    "arpu_b=round(total_revenue_b/total_users_b,2)\n",
    "arpu_b"
   ]
  },
  {
   "cell_type": "code",
   "execution_count": 63,
   "id": "9a75012c-dab8-4f61-bd62-5d68e749c19d",
   "metadata": {},
   "outputs": [
    {
     "name": "stdout",
     "output_type": "stream",
     "text": [
      "Разница ARPU: ARPU группы В больше ARPU группы А на 5.27%\n"
     ]
    }
   ],
   "source": [
    "difference_arpu = ((arpu_b - arpu_a) / arpu_a) * 100\n",
    "print(f\"Разница ARPU: ARPU группы В больше ARPU группы А на {difference_arpu:.2f}%\")"
   ]
  },
  {
   "cell_type": "markdown",
   "id": "e1ad03f8-3fe3-463c-bc62-9520b4353366",
   "metadata": {},
   "source": [
    "Полученная разница действительно соответствует заявленному проценту, что подтверждает группа А - контрольная, группа В - тестовая."
   ]
  },
  {
   "cell_type": "markdown",
   "id": "d8a49e6e-2871-4b13-bb9f-3f991750f1b2",
   "metadata": {},
   "source": [
    "В группе, которая участвовала в тестировании, доход больше, чем в контрольной группе, на 5,27%. Однако на данный момент мы не можем утверждать, что тестовый набор акционных предложений лучше.\n",
    "\n",
    "Проанализируем ключевые показатели, чтобы оценить успешность эксперимента.\n",
    "\n",
    "- ARPU - средний доход на одного пользователя\n",
    "\n",
    "- ARPPU - средний доход на одного платящего пользователя\n",
    "\n",
    "\n",
    "Соотношение ARPU и ARPPU демонстрирует, насколько пользователи удовлетворены ценовой политикой и качеством предлагаемого им платного контента.\n",
    "\n",
    "Эти метрики относим к целевым метрикам, так как они непосредственно измеряет финансовый результат, то есть демонстрируют успешность эксперимента и соответствуют основным задачам бизнеса.\n",
    "\n",
    "Также к бизнес-целям можно отнести метрику, показывающую количество платящих людей, так как чем больше число платящих, тем больше итоговая выручка. эта метрика не отражает частоту покупок, размер платежей (средний чек), поэтому будем её использовать как прокси-метрику:\n",
    "\n",
    "\n",
    "- CR - конверсия в платящего пользователя\n"
   ]
  },
  {
   "cell_type": "markdown",
   "id": "a88587d0-b927-46a4-86ad-723d1b3d388e",
   "metadata": {},
   "source": [
    "Обоснование выбора этих метрик:\n",
    "\n",
    "1.  ARPU (Average Revenue Per User) Средний доход на одного пользователя, включая неплатящих\n",
    "\n",
    "- Чувствительность: реагирует на любые изменения: рост числа платящих (↑CR) и увеличение среднего чека (↑ARPPU). Пример: если новая механика привлекает больше мелких платежей, ARPU вырастет даже без изменения ARPPU.\n",
    " - Достоверность: зависит от равномерности распределения пользователей между группами. Может \"размываться\" нулями (неплатящими), поэтому требует дополнения ARPPU.\n",
    "- Интерпретируемость: прямая связь с выручкой: «Каждый пользователь приносит в среднем X$». Понятна бизнесу как ключевой KPI.\n",
    "\n",
    "Связь с бизнес-целью:\n",
    "\n",
    "- Прямо отвечает на вопрос «Увеличился ли общий доход на пользователя?».\n",
    "- Если цель — общий рост выручки, ARPU — основная метрика.\n",
    "\n",
    "Ограничения:\n",
    "\n",
    "- Чувствителен к выбросам (крупные платежи искажают среднее).\n",
    "- Решение: Дополнять медианой и анализом распределения.\n",
    "\n",
    "\n",
    "2. ARPPU (Average Revenue Per Paying User) Средний доход только с платящих пользователей.\n",
    "\n",
    "- Чувствительность: улавливает изменения в платежном поведении: рост среднего чека, эффект от премиум-услуг или скидок. Пример: если новая механика стимулирует крупные платежи, ARPPU вырастет даже при снижении CR.\n",
    "- Достоверность\tУстойчив к неплатящим пользователям (в отличие от ARPU). Но уязвим к выбросам.\n",
    "- Интерпретируемость: четко отвечает: «Сколько в среднем платят те, кто решил купить». Понятна для анализа ценовой политики.\n",
    "\n",
    "Связь с бизнес-целью:\n",
    "\n",
    "- Показывает, стала ли новая механика мотивировать пользователей платить больше.\n",
    "- Критична, если CR уже высокий, и нужно увеличить средний чек.\n",
    "\n",
    "Ограничения:\n",
    "\n",
    "- Не учитывает конверсию в покупку.\n",
    "- Решение: Комбинировать с CR и проверять медиану вместо среднего при асимметричных данных.\n",
    "\n",
    "3. CR (Conversion Rate) Доля пользователей, совершивших покупку.\n",
    "\n",
    "- Чувствительность: показывает, как изменения в интерфейсе/механике влияют на решение о покупке. Пример: упрощение платежного процесса может резко увеличить CR.\n",
    "- Достоверность: цстойчива к размеру платежей (работает только с бинарным исходом: «платил/не платил»).\n",
    "- Интерпретируемость\tПроста: «X% пользователей совершили покупку». Понятна даже неаналитикам.\n",
    "\n",
    "Связь с бизнес-целью:\n",
    "\n",
    "- Ответ на вопрос «Стало ли больше пользователей платить?».\n",
    "- Ключевая метрика, если цель — привлечение новых платящих.\n",
    "\n",
    "Ограничения:\n",
    "\n",
    "- Не отражает размер платежей. Рост CR может маскировать снижение ARPPU.\n",
    "- Решение: Всегда анализировать вместе с ARPPU.\n",
    "\n",
    "Почему именно эта тройка метрик?\n",
    "\n",
    "Взаимодополняемость:\n",
    "\n",
    "ARPU = CR × ARPPU. Если растет CR или ARPPU, ARPU тоже растет.\n",
    "\n",
    "Пример:\n",
    "\n",
    "- CR ↗ + ARPPU → Успех (больше платящих + они платят больше).\n",
    "- CR ↗ + ARPPU ↘ → Риск (привлекли «дешевых» пользователей).\n",
    "\n",
    "Контроль искажений:\n",
    "\n",
    "- ARPU и ARPPU чувствительны к выбросам → дополняем медианой.\n",
    "- CR неустойчива к сегментации → проверяем баланс групп."
   ]
  },
  {
   "cell_type": "markdown",
   "id": "abf8c2f0-9e7a-4a93-961a-f46c86a4c52c",
   "metadata": {},
   "source": [
    "# ARPPU"
   ]
  },
  {
   "cell_type": "code",
   "execution_count": 65,
   "id": "63a51ea0-4437-4170-90b6-b00729114cbe",
   "metadata": {},
   "outputs": [
    {
     "data": {
      "text/plain": [
       "2664.0"
      ]
     },
     "execution_count": 65,
     "metadata": {},
     "output_type": "execute_result"
    }
   ],
   "source": [
    "# ARPPU (средняя выручка на платящего пользователя) в группе А\n",
    "arppu_a=round(total_revenue_a/paying_user_a,2)\n",
    "arppu_a"
   ]
  },
  {
   "cell_type": "code",
   "execution_count": 66,
   "id": "ac6cba96-16f7-4c49-92f3-211aa60e932e",
   "metadata": {},
   "outputs": [
    {
     "data": {
      "text/plain": [
       "3003.66"
      ]
     },
     "execution_count": 66,
     "metadata": {},
     "output_type": "execute_result"
    }
   ],
   "source": [
    "# ARPPU (средняя выручка на платящего пользователя) в группе B\n",
    "arppu_b=round(total_revenue_b/paying_user_b,2)\n",
    "arppu_b"
   ]
  },
  {
   "cell_type": "code",
   "execution_count": 64,
   "id": "4387bfcb-ee41-4bbf-a15d-93b68167b8c0",
   "metadata": {},
   "outputs": [
    {
     "name": "stdout",
     "output_type": "stream",
     "text": [
      "Разница ARPPU: ARPPU группы В больше ARPPU группы А на 12.75%\n"
     ]
    }
   ],
   "source": [
    "difference_arppu = ((arppu_b - arppu_a) / arppu_a) * 100\n",
    "print(f\"Разница ARPPU: ARPPU группы В больше ARPPU группы А на {difference_arppu:.2f}%\")"
   ]
  },
  {
   "cell_type": "markdown",
   "id": "23b420b0-d14d-4ade-8dcc-c4adad0626f1",
   "metadata": {},
   "source": [
    "# CR"
   ]
  },
  {
   "cell_type": "code",
   "execution_count": 73,
   "id": "8bf2d8d9-b953-4dc1-b7a2-95af7ad62fa5",
   "metadata": {},
   "outputs": [
    {
     "data": {
      "text/plain": [
       "0.95"
      ]
     },
     "execution_count": 73,
     "metadata": {},
     "output_type": "execute_result"
    }
   ],
   "source": [
    "# CR(конверсия в платящего пользователя) в группе А\n",
    "cr_a=round(paying_user_a*100/total_users_a,2)\n",
    "cr_a"
   ]
  },
  {
   "cell_type": "code",
   "execution_count": 74,
   "id": "c7c6b7c2-5f7d-4171-878a-867358804ae0",
   "metadata": {},
   "outputs": [
    {
     "data": {
      "text/plain": [
       "0.89"
      ]
     },
     "execution_count": 74,
     "metadata": {},
     "output_type": "execute_result"
    }
   ],
   "source": [
    "# CR(конверсия в платящего пользователя) в группе В\n",
    "cr_b=round(paying_user_b*100/total_users_b,2)\n",
    "cr_b"
   ]
  },
  {
   "cell_type": "code",
   "execution_count": 76,
   "id": "1358e7bd-0f95-43bf-ab73-d252271ce6a1",
   "metadata": {},
   "outputs": [
    {
     "name": "stdout",
     "output_type": "stream",
     "text": [
      "Разница CR: CR группы В меньше CR группы А на 6.74%\n"
     ]
    }
   ],
   "source": [
    "difference_arppu = ((cr_a - cr_b) / cr_b) * 100\n",
    "print(f\"Разница CR: CR группы В меньше CR группы А на {difference_arppu:.2f}%\")"
   ]
  },
  {
   "cell_type": "markdown",
   "id": "6404eda8-0436-4c59-b2c5-e062813ebead",
   "metadata": {},
   "source": [
    "Предварительные выводы по всем метрикам:"
   ]
  },
  {
   "cell_type": "code",
   "execution_count": 77,
   "id": "9c8b43bd-6251-4ef9-bb74-a9fe4b335ffd",
   "metadata": {},
   "outputs": [
    {
     "name": "stdout",
     "output_type": "stream",
     "text": [
      "Разница ARPU: ARPU группы В больше ARPU группы А на 5.27%\n",
      "Разница ARPPU: ARPPU группы В больше ARPPU группы А на 6.74%\n",
      "Разница CR: CR группы В меньше CR группы А на 6.74%\n"
     ]
    }
   ],
   "source": [
    "print(f\"Разница ARPU: ARPU группы В больше ARPU группы А на {difference_arpu:.2f}%\")\n",
    "print(f\"Разница ARPPU: ARPPU группы В больше ARPPU группы А на {difference_arppu:.2f}%\")\n",
    "print(f\"Разница CR: CR группы В меньше CR группы А на {difference_arppu:.2f}%\")"
   ]
  },
  {
   "cell_type": "markdown",
   "id": "538f545b-f07c-43a0-8d77-c6014152aa40",
   "metadata": {},
   "source": [
    "  "
   ]
  },
  {
   "cell_type": "markdown",
   "id": "53fe1861-cfb5-47f0-812a-f898360ec1e8",
   "metadata": {},
   "source": [
    "Прежде чем выдвигать гипотезы, необходимо правильно выбрать статистический тест. Тест будет проводиться среди двух выборок, поэтому выбор среди двухвыборочных тестов.\n",
    "\n",
    "Сравнивают средние двух выборок.\n",
    "\n",
    "- t-критерий Стьюдента для независимых выборок\n",
    "\n",
    "   - Условия:\n",
    "\n",
    "       - Независимые выборки.\n",
    "\n",
    "       - Нормальное распределение или большой объем выборки.\n",
    "\n",
    "       - Проверка равенства дисперсий (критерий Левена или F-тест).\n",
    "\n",
    "   - Варианты:\n",
    "\n",
    "       - С равными дисперсиями (критерий Стьюдента).\n",
    "\n",
    "       - С неравными дисперсиями (критерий Уэлча).\n",
    "\n",
    "- t-критерий Стьюдента для парных выборок\n",
    "\n",
    "   - Условия:\n",
    "\n",
    "       - Зависимые выборки (например, до и после воздействия).\n",
    "\n",
    "       - Разности пар должны быть нормально распределены.\n",
    "\n",
    "- U-критерий Манна-Уитни (непараметрический аналог t-теста)\n",
    "\n",
    "   - Условия:\n",
    "\n",
    "       - Ненормальное распределение.\n",
    "\n",
    "       - Независимые выборки.\n",
    "\n",
    "   - Проверяет гипотезу о равенстве медиан или сдвиге распределений.\n",
    "\n",
    "- Критерий Уилкоксона (парный непараметрический тест)\n",
    "\n",
    "   - Аналог парного t-теста для ненормальных данных.\n",
    " \n",
    "\n",
    "Для достоверной оценки статистической значимости необходимо выбрать правильно тест. \n",
    "\n",
    "t-критерий Стьюдента для парных выборок уже не подходит, так как выборки не зависимы медлу собой, поэтому выбираем между:\n",
    "\n",
    "t-критерий Стьюдента для независимых выборок, U-критерий Манна-Уитни (непараметрический аналог t-теста) и Критерий Уилкоксона (парный непараметрический тест, аналог парного t-теста для ненормальных данных). \n",
    "\n",
    "Согласно условиям t-критерий Стьюдента для независимых выборок (а выборки в нашем случае друг от лруга независимы, значит первое условие уже выполнено), нужно провести проверку распределения данных на нормальность и провести проверку равенства дисперсий (критерий Левена или F-тест).\n",
    "\n",
    "\n",
    "U-критерий Манна-Уитни (непараметрический аналог t-теста) - выборки независимы, поэтому также как и с Т-тестом нужно проверить нормальность распределения данных.\n",
    "\n",
    "Критерий Уилкоксона (парный непараметрический тест) - данные распределены ненормально либо это неизвестно.\n"
   ]
  },
  {
   "cell_type": "markdown",
   "id": "fd775bea-225d-49d3-9f48-f5b85a5d7902",
   "metadata": {},
   "source": [
    "# ARPU"
   ]
  },
  {
   "cell_type": "markdown",
   "id": "54edce6e-850d-4fa1-ae79-e8fd09ba3cc7",
   "metadata": {},
   "source": [
    "Для проверки на нормальность распределения данных применим тест нормальности Д'Агостино-Пирсона \n",
    "\n",
    "Нулевая гипотеза - данные распределены нормально. \n",
    "\n",
    "Альтернативная гипотеза - данные распределены ненормально.\n",
    "\n",
    "Если p-значение < 0,05 (5%), нулевая гипотеза отвергается, распределение не является нормальным.\n"
   ]
  },
  {
   "cell_type": "code",
   "execution_count": 106,
   "id": "c3d69d14-a48b-4706-aaa7-6754eae08fd8",
   "metadata": {},
   "outputs": [],
   "source": [
    "from scipy.stats import shapiro, levene, mannwhitneyu, ttest_ind\n",
    "from scipy.stats import normaltest"
   ]
  },
  {
   "cell_type": "code",
   "execution_count": 107,
   "id": "9700006e-e5b8-42bf-8c8f-e7ebab150845",
   "metadata": {},
   "outputs": [],
   "source": [
    "arpu__a = A_B[A_B['testgroup'] == 'a']['revenue']\n",
    "arpu__b = A_B[A_B['testgroup'] == 'b']['revenue']"
   ]
  },
  {
   "cell_type": "code",
   "execution_count": 119,
   "id": "5b2b3658-6a18-430c-9683-cb1d49fad226",
   "metadata": {},
   "outputs": [],
   "source": [
    "# Проведем тест Д'Агостино-Пирсона\n",
    "stat_a1, p_a1 = normaltest(arpu__a)\n",
    "stat_b1, p_b1 = normaltest(arpu__b)"
   ]
  },
  {
   "cell_type": "code",
   "execution_count": 120,
   "id": "59e2a55d-5494-4799-b3c4-21a26a95aeb6",
   "metadata": {},
   "outputs": [
    {
     "name": "stdout",
     "output_type": "stream",
     "text": [
      "\n",
      "Результаты теста Д'Агостино-Пирсона:\n",
      "\n",
      "Группа A:\n",
      "- Статистика: 585152.7313\n",
      "- p-value: 0.0000\n",
      "- Нормальность: Распределение не нормально\n",
      "\n",
      "Группа B:\n",
      "- Статистика: 326622.3954\n",
      "- p-value: 0.0000\n",
      "- Нормальность: Распределение не нормально\n",
      "\n"
     ]
    }
   ],
   "source": [
    "print(f\"\"\"\n",
    "Результаты теста Д'Агостино-Пирсона:\n",
    "\n",
    "Группа A:\n",
    "- Статистика: {stat_a1:.4f}\n",
    "- p-value: {p_a1:.4f}\n",
    "- Нормальность: {'Распределение нормально' if p_a1 > 0.05 else 'Распределение не нормально'}\n",
    "\n",
    "Группа B:\n",
    "- Статистика: {stat_b1:.4f}\n",
    "- p-value: {p_b1:.4f}\n",
    "- Нормальность: {'Распределение нормально' if p_b1 > 0.05 else 'Распределение не нормально'}\n",
    "\"\"\")"
   ]
  },
  {
   "cell_type": "markdown",
   "id": "8a264f83-b60c-4f95-bb5b-aaf9dede9c4e",
   "metadata": {},
   "source": [
    "В результате теста Д'Агостино-Пирсона принимается альтернативная гипотеза о ненормальности данных во всех группах, так как и p-значение < 0,05.\n",
    "Необходимо проверить равенство дисперсий.\n",
    "\n",
    "\n",
    "Критерии для проверки гипотез о дисперсиях\n",
    "\n",
    "- F-тест (критерий Фишера)\n",
    "\n",
    "  - Сравнивает дисперсии двух выборок.\n",
    "\n",
    "  - Условия: нормальное распределение.\n",
    "\n",
    "- Критерий Бартлетта / Левена\n",
    "\n",
    "  - Проверяет равенство дисперсий нескольких выборок.\n",
    "\n",
    "  - Бартлетт чувствителен к отклонениям от нормальности, Левен более устойчив\n",
    "  \n",
    "На основе теоретической справки, для проверки равенства дисперсий будем использовать критерий Левена с медианной центровкой, так как распределение данных ненормально.\n",
    "\n",
    "Нулевая гипотеза - дисперсии двух групп равны\n",
    "\n",
    "Альтернативная гипотеза - дисперсии двух групп не равны\n"
   ]
  },
  {
   "cell_type": "code",
   "execution_count": 124,
   "id": "b3ecf822-1c90-42c7-9b72-01ff7af0d9a6",
   "metadata": {},
   "outputs": [],
   "source": [
    "levene_test_1 = levene(arpu__a, arpu__b, center='median')"
   ]
  },
  {
   "cell_type": "code",
   "execution_count": 125,
   "id": "08e17f99-01e5-4120-b6e2-dfce7312874e",
   "metadata": {},
   "outputs": [
    {
     "name": "stdout",
     "output_type": "stream",
     "text": [
      "Тест Левена (медианный): p-value = 0.5325\n",
      "Дисперсии можно считать равными (p > 0.05)\n"
     ]
    }
   ],
   "source": [
    "print(f\"Тест Левена (медианный): p-value = {levene_test_1.pvalue:.4f}\")\n",
    "\n",
    "if levene_test_1.pvalue > 0.05:\n",
    "    print(\"Дисперсии можно считать равными (p > 0.05)\")\n",
    "else:\n",
    "    print(\"Дисперсии различаются (p <= 0.05)\")"
   ]
  },
  {
   "cell_type": "markdown",
   "id": "602f0a10-4e08-4cb6-b0e5-15e8a30adf15",
   "metadata": {},
   "source": [
    "Так как дисперсии равны, для проверки статистической значимости будем использовать - t-критерий Стьюдента для независимых выборок."
   ]
  },
  {
   "cell_type": "markdown",
   "id": "65bcdd3b-0bfa-4fb5-a437-0ee60f1ff892",
   "metadata": {},
   "source": [
    "Проверим значимость ARPU (t-тест):\n",
    "\n",
    "Нулевая гипотеза: ARPU в группах не различается, а наблюдаемые различия случайны.\n",
    "\n",
    "Альтернативная гипотеза: ARPU в группах различаюся статистически значимо."
   ]
  },
  {
   "cell_type": "code",
   "execution_count": 114,
   "id": "839c1b6b-95c6-48df-b7b4-d875898f52f4",
   "metadata": {},
   "outputs": [],
   "source": [
    "arpu_test = pg.ttest(\n",
    "    x=A_B[A_B['testgroup'] == 'a']['revenue'],\n",
    "    y=A_B[A_B['testgroup'] == 'b']['revenue'],\n",
    "    correction=False)  # Поправка Уэлча не нужна, т.к. дисперсии равны"
   ]
  },
  {
   "cell_type": "code",
   "execution_count": 115,
   "id": "3c852519-d2a0-4f29-90e5-bf8c41d68ea9",
   "metadata": {},
   "outputs": [
    {
     "name": "stdout",
     "output_type": "stream",
     "text": [
      "Результаты t-теста для ARPU:\n",
      " \n",
      "             T     dof alternative   p-val          CI95%  cohen-d   BF10  \\\n",
      "T-test -0.6242  404768   two-sided  0.5325  [-5.54, 2.86]    0.002  0.004   \n",
      "\n",
      "         power  \n",
      "T-test  0.0957  \n",
      " \n"
     ]
    }
   ],
   "source": [
    "print(\"Результаты t-теста для ARPU:\")\n",
    "print(\" \")\n",
    "print(arpu_test.round(4))\n",
    "print(\" \")"
   ]
  },
  {
   "cell_type": "markdown",
   "id": "3dbbe318-b237-4586-9148-9ac53068b48a",
   "metadata": {},
   "source": [
    "Основные выводы:\n",
    "\n",
    "1. Статистическая значимость (p-value = 0.5325)\n",
    "\n",
    "- p-value > 0.05 → различия в ARPU между группами незначимы.\n",
    "- Нет оснований отвергать нулевую гипотезу «ARPU групп одинаковы».\n",
    "\n",
    "2. Размер эффекта (Cohen’s d = 0.002)\n",
    "\n",
    "- Эффект практически отсутствует (d < 0.2 считается незначимым).\n",
    "- Даже если бы p-value был < 0.05, такой эффект не имел бы практического смысла.\n",
    "\n",
    "3. Доверительный интервал (95% ДИ: [-5.54, 2.86])\n",
    "\n",
    "- Интервал включает ноль → статистически значимых различий нет.\n",
    "- Максимальная возможная разница: группа B может быть лучше на 2.86 или хуже на 5.54 (но всё в пределах шума).\n",
    "\n",
    "4. Bayes Factor (BF10 = 0.004)\n",
    "\n",
    "- Сильно поддерживает нулевую гипотезу (BF < 0.01 — «анемичные доказательства» альтернативы).\n",
    "- Данные в 250 раз чаще (1/0.004) встречаются при нулевой гипотезе, чем при альтернативной.\n",
    "\n",
    "5. Мощность теста (Power = 0.0957)\n",
    "\n",
    "- Всего 9.57% шанс обнаружить эффект, если бы он был (но его нет)."
   ]
  },
  {
   "cell_type": "markdown",
   "id": "658277d7-fe52-41fa-b184-549221388c5f",
   "metadata": {},
   "source": [
    "# ARPPU"
   ]
  },
  {
   "cell_type": "markdown",
   "id": "b0f9741f-de24-4e0e-85c5-352da5e09b37",
   "metadata": {},
   "source": [
    "Определим нормальность распределения данных, равенство дисперсий и выберем тест для оценки статистической значимости для метрики ARPPU"
   ]
  },
  {
   "cell_type": "markdown",
   "id": "3b919246-8aa6-45d1-9a8e-eacef97e183d",
   "metadata": {},
   "source": [
    "Для проверки на нормальность распределения данных применим тест нормальности Д'Агостино-Пирсона\n",
    "\n",
    "Нулевая гипотеза - данные распределены нормально.\n",
    "\n",
    "Альтернативная гипотеза - данные распределены ненормально.\n",
    "\n",
    "Если p-значение < 0,05 (5%), нулевая гипотеза отвергается, распределение не является нормальным."
   ]
  },
  {
   "cell_type": "code",
   "execution_count": 121,
   "id": "5e833055-fb18-43f0-b211-592a3bcc3253",
   "metadata": {},
   "outputs": [],
   "source": [
    "arppu__a = A_B[(A_B['testgroup'] == 'a') & (A_B['revenue'] > 0)]['revenue']\n",
    "arppu__b = A_B[(A_B['testgroup'] == 'b') & (A_B['revenue'] > 0)]['revenue']"
   ]
  },
  {
   "cell_type": "code",
   "execution_count": 122,
   "id": "fa4d04bd-2a49-4f11-945c-6b6ca365dd0c",
   "metadata": {},
   "outputs": [],
   "source": [
    "stat_a2, p_a2 = normaltest(arppu__a)\n",
    "stat_b2, p_b2 = normaltest(arppu__b)"
   ]
  },
  {
   "cell_type": "code",
   "execution_count": 123,
   "id": "bbea70b3-94b9-4c28-b089-167f1d422883",
   "metadata": {},
   "outputs": [
    {
     "name": "stdout",
     "output_type": "stream",
     "text": [
      "\n",
      "Результаты теста Д'Агостино-Пирсона:\n",
      "\n",
      "Группа A:\n",
      "- Статистика: 1394.9458\n",
      "- p-value: 0.0000\n",
      "- Нормальность: Распределение не нормально\n",
      "\n",
      "Группа B:\n",
      "- Статистика: 1068.8600\n",
      "- p-value: 0.0000\n",
      "- Нормальность: Распределение не нормально\n",
      "\n"
     ]
    }
   ],
   "source": [
    "print(f\"\"\"\n",
    "Результаты теста Д'Агостино-Пирсона:\n",
    "\n",
    "Группа A:\n",
    "- Статистика: {stat_a2:.4f}\n",
    "- p-value: {p_a2:.4f}\n",
    "- Нормальность: {'Распределение нормально' if p_a2 > 0.05 else 'Распределение не нормально'}\n",
    "\n",
    "Группа B:\n",
    "- Статистика: {stat_b2:.4f}\n",
    "- p-value: {p_b2:.4f}\n",
    "- Нормальность: {'Распределение нормально' if p_b2 > 0.05 else 'Распределение не нормально'}\n",
    "\"\"\")"
   ]
  },
  {
   "cell_type": "markdown",
   "id": "5031a5fc-51d8-4b41-910e-bcae892432fc",
   "metadata": {},
   "source": [
    "В результате теста Д'Агостино-Пирсона принимается альтернативная гипотеза о ненормальности данных во всех группах, так как и p-значение < 0,05. Необходимо проверить равенство дисперсий. Будем использовать критерий Левена.\n",
    "\n",
    "Нулевая гипотеза - дисперсии двух групп равны\n",
    "\n",
    "Альтернативная гипотеза - дисперсии двух групп не равны"
   ]
  },
  {
   "cell_type": "code",
   "execution_count": 126,
   "id": "ee6a8518-2bb7-4151-b897-0f5799e66f87",
   "metadata": {},
   "outputs": [],
   "source": [
    "levene_test_2 = levene(arppu__a, arppu__b, center='median')"
   ]
  },
  {
   "cell_type": "code",
   "execution_count": 127,
   "id": "c8929785-68b1-4177-aff6-ee81130289e5",
   "metadata": {},
   "outputs": [
    {
     "name": "stdout",
     "output_type": "stream",
     "text": [
      "Тест Левена (медианный): p-value = 0.0000\n",
      "Дисперсии различаются (p <= 0.05)\n"
     ]
    }
   ],
   "source": [
    "print(f\"Тест Левена (медианный): p-value = {levene_test_2.pvalue:.4f}\")\n",
    "\n",
    "if levene_test_2.pvalue > 0.05:\n",
    "    print(\"Дисперсии можно считать равными (p > 0.05)\")\n",
    "else:\n",
    "    print(\"Дисперсии различаются (p <= 0.05)\")"
   ]
  },
  {
   "cell_type": "markdown",
   "id": "82435222-4149-48f8-b4f3-9b49574c6959",
   "metadata": {},
   "source": [
    "С учетом того, что данные распределены не нормально и дисперсии не равны,  для установления статистической значимости различий метрики ARPPU будем использовать t-критерий Уэлча для сравнения средних с поправкой на неравенство дисперсий, как наиболее устойчивый к отклонениям от нормальности, т.к. в данном случае размеры выборок достаточно велики (1928 и 1805), а значит, с поправкой на разность дисперсии принцип центральной предельной теоремы (о том, что распределение выборочных средних будет стремиться к нормальному, независимо от формы первоначального распределения) всё ещё будет работать.\n",
    "\n",
    "Нулевая гипотеза: ARPPU в группах не различается, а наблюдаемые различия случайны.\n",
    "\n",
    "Альтернативная гипотеза: ARPPU в группах различаюся статистически значимо."
   ]
  },
  {
   "cell_type": "code",
   "execution_count": 133,
   "id": "1986bc21-51fe-40f1-afc7-1dfc97d472dd",
   "metadata": {},
   "outputs": [
    {
     "name": "stdout",
     "output_type": "stream",
     "text": [
      "\n",
      "Результаты t-теста с поправкой Уэлча для ARPPU\n",
      "             T        dof alternative   p-val            CI95%  cohen-d  \\\n",
      "T-test -1.6446  1943.4815   two-sided  0.1002  [-744.7, 65.38]   0.0521   \n",
      "\n",
      "         BF10   power  \n",
      "T-test  0.142  0.3564  \n"
     ]
    }
   ],
   "source": [
    "welch_test = pg.ttest(\n",
    "    x=arppu__a,\n",
    "    y=arppu__b,\n",
    "    correction=True  # Автоматически применяет поправку Уэлча\n",
    ")\n",
    "\n",
    "print(\"\\nРезультаты t-теста с поправкой Уэлча для ARPPU\")\n",
    "print(welch_test.round(4))\n"
   ]
  },
  {
   "cell_type": "markdown",
   "id": "bb9d2bcd-0e28-49aa-bd3a-e04834470970",
   "metadata": {},
   "source": [
    "Основные выводы:\n",
    "\n",
    "1. Статистическая значимость (p-value = 0.1002)\n",
    "\n",
    "- p-value > 0.05 → различия в ARPPU не являются статистически значимыми.\n",
    "- Нет оснований отвергать нулевую гипотезу  «ARPPU групп одинаковы».\n",
    "\n",
    "2. Размер эффекта (Cohen’s d = 0.0521)\n",
    "\n",
    "- Эффект крайне мал (d ≈ 0.05). Даже если бы p-value был < 0.05, такой эффект не имел бы практического смысла.\n",
    "\n",
    "3. Доверительный интервал (95% ДИ: [-744.7, 65.38])\n",
    "\n",
    "- Интервал включает ноль → статистически значимых различий нет.\n",
    "- Широкий диапазон (от -744.7 до +65.38) указывает на высокую неопределенность.\n",
    "    - Возможно, группа B лучше на 65.38 или хуже на 744.7 (но это в пределах погрешности).\n",
    "\n",
    "4. Bayes Factor (BF10 = 0.142)\n",
    "\n",
    "- Данные в 7 раз чаще (1/0.142 ≈ 7) встречаются при нулевой гипотезе, чем при альтернативной.\n",
    "\n",
    "5. Мощность теста (Power = 0.3564)\n",
    "\n",
    "- Всего 35.64% шанс обнаружить эффект, если он есть (обычно целевой порог — 80%).\n",
    "- Низкая мощность объясняется:\n",
    "    - Малым размером эффекта (d = 0.05),\n",
    "    - Возможной большой дисперсией в данных."
   ]
  },
  {
   "cell_type": "markdown",
   "id": "5bd35cf6-ea1b-4f2d-80a0-41d65e34e9e7",
   "metadata": {},
   "source": [
    "# CR"
   ]
  },
  {
   "cell_type": "code",
   "execution_count": 135,
   "id": "9096810b-3814-4074-86be-d45a7d9bfaa0",
   "metadata": {},
   "outputs": [],
   "source": [
    "from statsmodels.stats.proportion import proportions_ztest, proportion_confint"
   ]
  },
  {
   "cell_type": "markdown",
   "id": "7b79ae0b-3442-47ab-9b39-11a3385cdfbc",
   "metadata": {},
   "source": [
    "CR — бинарная метрика (0 или 1), которая:\n",
    "\n",
    "Подчиняется биномиальному распределению, а не нормальному, бинарные данные заведомо ненормальны.\n",
    "\n",
    "Имеет фиксированную дисперсию для каждой группы\n",
    "\n",
    "«Для пропорций (бинарных данных) z-тест и хи-квадрат являются стандартными методами, не требующими проверки нормальности»\n",
    "— Agresti, A. (2013). Categorical Data Analysis.\n",
    "\n"
   ]
  },
  {
   "cell_type": "markdown",
   "id": "f177fa74-8752-4114-a8fb-9f1018d15e5a",
   "metadata": {},
   "source": [
    "Для проверки наличия статистически значимых различий в CR между двумя группами обычно используют z-test для двух пропорций.\n",
    "Гипотезы:\n",
    "\n",
    "Нулевая гипотеза - CR в группах не различается, а наблюдаемые различия случайны.\n",
    "\n",
    "Альернативная гипотеза - CR в группах различаюся статистически значимо."
   ]
  },
  {
   "cell_type": "code",
   "execution_count": 137,
   "id": "18578b10-e745-46f8-baaf-cd743b7b6580",
   "metadata": {},
   "outputs": [],
   "source": [
    "A_B['converted'] = (A_B['revenue'] > 0).astype(int)  # 1 — платящий, 0 — нет\n",
    "conversions = A_B.groupby('testgroup')['converted'].agg(['sum', 'count'])\n",
    "conversions.columns = ['converted', 'total']"
   ]
  },
  {
   "cell_type": "code",
   "execution_count": 139,
   "id": "c9346bbf-6ed8-4c4e-bf51-eaf149d93d81",
   "metadata": {},
   "outputs": [],
   "source": [
    "count = conversions.loc['a', 'converted'], conversions.loc['b', 'converted']\n",
    "nobs = conversions.loc['a', 'total'], conversions.loc['b', 'total']"
   ]
  },
  {
   "cell_type": "code",
   "execution_count": 140,
   "id": "fdb14086-9ead-4c2b-84b8-fdd590d0a72b",
   "metadata": {},
   "outputs": [
    {
     "name": "stdout",
     "output_type": "stream",
     "text": [
      "\n",
      "Результаты z-теста:\n",
      "z-статистика = 2.1080, p-value = 0.0350\n"
     ]
    }
   ],
   "source": [
    "z_stat, p_value = proportions_ztest(count, nobs, alternative='two-sided')\n",
    "print(f\"\\nРезультаты z-теста:\\nz-статистика = {z_stat:.4f}, p-value = {p_value:.4f}\")"
   ]
  },
  {
   "cell_type": "code",
   "execution_count": 142,
   "id": "364a071b-4b10-4dbc-a277-d5c36ad33253",
   "metadata": {},
   "outputs": [
    {
     "name": "stdout",
     "output_type": "stream",
     "text": [
      "Cohen’s h = 0.007\n"
     ]
    }
   ],
   "source": [
    "p_a = count[0] / nobs[0]  \n",
    "p_b = count[1] / nobs[1]  \n",
    "h = 2 * (np.arcsin(np.sqrt(p_a)) - np.arcsin(np.sqrt(p_b)))\n",
    "print(f\"Cohen’s h = {h:.3f}\")  "
   ]
  },
  {
   "cell_type": "markdown",
   "id": "8c1f9e6c-19ad-48d3-8d82-b28261c607a8",
   "metadata": {},
   "source": [
    "p-value < 0.05 поэтому нулевую гипотезу отклоняем, различия между группами статистически значимы, что говорит нам о том, что конверсия в покупку у контрольной группы действительно выше, чем конверсия тестовой группы. Однако размер эффекта (h = 0.007) ничтожно мал, хоть z-тест и видит значимость, практическое значение для бизнеса отсутствует."
   ]
  },
  {
   "cell_type": "markdown",
   "id": "87b011b4-bc73-4e7a-862f-35392d8e7740",
   "metadata": {},
   "source": [
    "# Общие итоги A/B-теста"
   ]
  },
  {
   "cell_type": "markdown",
   "id": "a98fd2b7-ccd0-43a5-a306-158f978f02b1",
   "metadata": {},
   "source": [
    "Ключевые проблемы\n",
    "- Группа A содержит крайне неравномерное распределение платежей:\n",
    "    - Большая часть пользователей не платит.\n",
    "    - 6% \"китов\" (платежи до 37 433 руб.) искусственно завышают ARPU/ARPPU.\n",
    "\n",
    "- Группа B более однородна (платежи до 4000 руб.), но её ARPU тоже требует проверки.\n",
    "\n",
    "\n",
    "\n",
    "1. ARPU (Average Revenue Per User) средний доход на одного пользователя\n",
    "- Результат: Нет статистически значимых различий (p = 0.5325),\n",
    "- Размер эффекта: Ничтожно мал (Cohen’s d = 0.002),\n",
    "- Практический вывод: Изменения не повлияли на средний доход с пользователя. Различия в пределах статистического шума.\n",
    "\n",
    "2. ARPPU (Average Revenue Per Paying User) средний доход на одного платящего пользователя\n",
    "- Результат: Нет статистически значимых различий (p = 0.1002),\n",
    "- Размер эффекта: Очень мал (Cohen’s d = 0.052),\n",
    "- Практический вывод: Платящие пользователи в обеих группах тратят одинаково. Широкий доверительный интервал (от -744.7 до +65.38) указывает на неопределённость, но даже в лучшем случае эффект минимален.\n",
    "\n",
    "3. CR (Conversion Rate) конверсия в платящего полльзователя\n",
    "- Результат: Статистически значимые различия (p = 0.035),\n",
    "- Размер эффекта: Ничтожно мал (Cohen’s h = 0.007),\n",
    "- Практический вывод: Конверсия в группе A значимо выше, но разница всего ~0.07% — не имеет практического смысла для бизнеса.\n"
   ]
  },
  {
   "cell_type": "markdown",
   "id": "dd6719d3-091c-45a0-afe6-759e5ca7d931",
   "metadata": {},
   "source": [
    "# Итоговые рекомендации"
   ]
  },
  {
   "cell_type": "markdown",
   "id": "2bdf7ca1-f8ba-4f60-9f00-ba80848b119c",
   "metadata": {},
   "source": [
    "Проведенный A/B-тест не выявил статистически и практически значимых и практически различий между группами по ключевым метрикам (ARPU, ARPPU, CR). Наблюдаемый рост ARPU на 5% в группе B может быть связан с случайными колебаниями или артефактами данных (например, выбросами в группе A). \n",
    "\n",
    "Рекомендуется:\n",
    "\n",
    "1. Исключить аномальные платежи, убедиться, что пользователи с большими платежами равномерно распределены между группами и перезапустить тест для чистоты эксперимента.\n",
    "2. Увеличить длительность теста и объем выборки для повышения мощности анализа.\n",
    "\n",
    "\n",
    "На текущем этапе внедрение изменений группы B не обосновано."
   ]
  }
 ],
 "metadata": {
  "kernelspec": {
   "display_name": "Python 3 (ipykernel)",
   "language": "python",
   "name": "python3"
  },
  "language_info": {
   "codemirror_mode": {
    "name": "ipython",
    "version": 3
   },
   "file_extension": ".py",
   "mimetype": "text/x-python",
   "name": "python",
   "nbconvert_exporter": "python",
   "pygments_lexer": "ipython3",
   "version": "3.13.5"
  }
 },
 "nbformat": 4,
 "nbformat_minor": 5
}
